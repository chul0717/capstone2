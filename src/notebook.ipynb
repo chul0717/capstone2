{
 "cells": [
  {
   "cell_type": "code",
   "execution_count": 556,
   "metadata": {},
   "outputs": [],
   "source": [
    "import matplotlib.pyplot as plt\n",
    "import numpy as np\n",
    "import os\n",
    "import pandas as pd\n",
    "import pyodbc\n",
    "import sys\n",
    "import urllib\n",
    "from sqlalchemy import create_engine\n",
    "import seaborn as sns\n",
    "import plotly.express as px\n",
    "import plotly.graph_objects as go\n",
    "from collections import Counter\n",
    "\n",
    "%matplotlib inline"
   ]
  },
  {
   "cell_type": "code",
   "execution_count": 566,
   "metadata": {},
   "outputs": [],
   "source": [
    "df_sales2019 = pd.read_csv(\"../data/p_store_order2019.csv\", dtype={\"orderno\":str, \"dcamount\":int, \"oriamount\":int, \"tamount\":int})\n",
    "df_sales2018 = pd.read_csv(\"../data/p_store_order2018.csv\", dtype={\"orderno\":str, \"dcamount\":int, \"oriamount\":int, \"tamount\":int})"
   ]
  },
  {
   "cell_type": "code",
   "execution_count": 567,
   "metadata": {},
   "outputs": [
    {
     "data": {
      "text/html": [
       "<div>\n",
       "<style scoped>\n",
       "    .dataframe tbody tr th:only-of-type {\n",
       "        vertical-align: middle;\n",
       "    }\n",
       "\n",
       "    .dataframe tbody tr th {\n",
       "        vertical-align: top;\n",
       "    }\n",
       "\n",
       "    .dataframe thead th {\n",
       "        text-align: right;\n",
       "    }\n",
       "</style>\n",
       "<table border=\"1\" class=\"dataframe\">\n",
       "  <thead>\n",
       "    <tr style=\"text-align: right;\">\n",
       "      <th></th>\n",
       "      <th>orderno</th>\n",
       "      <th>branch</th>\n",
       "      <th>saledate</th>\n",
       "      <th>saletime</th>\n",
       "      <th>chk_cancel</th>\n",
       "      <th>dcamount</th>\n",
       "      <th>oriamount</th>\n",
       "      <th>tamount</th>\n",
       "    </tr>\n",
       "  </thead>\n",
       "  <tbody>\n",
       "    <tr>\n",
       "      <th>0</th>\n",
       "      <td>201903140001</td>\n",
       "      <td>BK0008</td>\n",
       "      <td>20190314</td>\n",
       "      <td>1411</td>\n",
       "      <td>1</td>\n",
       "      <td>0</td>\n",
       "      <td>2300</td>\n",
       "      <td>2300</td>\n",
       "    </tr>\n",
       "    <tr>\n",
       "      <th>1</th>\n",
       "      <td>201904160001</td>\n",
       "      <td>BK0008</td>\n",
       "      <td>20190416</td>\n",
       "      <td>1224</td>\n",
       "      <td>1</td>\n",
       "      <td>0</td>\n",
       "      <td>3000</td>\n",
       "      <td>3000</td>\n",
       "    </tr>\n",
       "  </tbody>\n",
       "</table>\n",
       "</div>"
      ],
      "text/plain": [
       "        orderno  branch  saledate  saletime  chk_cancel  dcamount  oriamount  \\\n",
       "0  201903140001  BK0008  20190314      1411           1         0       2300   \n",
       "1  201904160001  BK0008  20190416      1224           1         0       3000   \n",
       "\n",
       "   tamount  \n",
       "0     2300  \n",
       "1     3000  "
      ]
     },
     "execution_count": 567,
     "metadata": {},
     "output_type": "execute_result"
    }
   ],
   "source": [
    "df_sales2019.head(2)"
   ]
  },
  {
   "cell_type": "code",
   "execution_count": 568,
   "metadata": {},
   "outputs": [],
   "source": [
    "# change setdate and saletime to datetime\n",
    "def convert_dates(df):\n",
    "    \"\"\"\n",
    "    converts saledate and saletime columns into one datetime datatype column\n",
    "    \n",
    "    Paremeters\n",
    "    ==========\n",
    "    df: Pandas DataFrame\n",
    "    \n",
    "    Returns\n",
    "    =======\n",
    "    df: Pandas Dataframe\n",
    "        returns dataframe with new saledate column and drops old columns\n",
    "    \n",
    "    \"\"\"\n",
    "    df[\"saledate\"] = df[\"saledate\"].astype(\"str\") + df[\"saletime\"].astype(\"str\").str.zfill(4)\n",
    "    df[\"saledate\"] = pd.to_datetime(df[\"saledate\"], format='%Y%m%d%H%M')\n",
    "    df.drop(\"saletime\", axis=1, inplace=True)\n",
    "    return df"
   ]
  },
  {
   "cell_type": "code",
   "execution_count": 569,
   "metadata": {},
   "outputs": [
    {
     "data": {
      "text/html": [
       "<div>\n",
       "<style scoped>\n",
       "    .dataframe tbody tr th:only-of-type {\n",
       "        vertical-align: middle;\n",
       "    }\n",
       "\n",
       "    .dataframe tbody tr th {\n",
       "        vertical-align: top;\n",
       "    }\n",
       "\n",
       "    .dataframe thead th {\n",
       "        text-align: right;\n",
       "    }\n",
       "</style>\n",
       "<table border=\"1\" class=\"dataframe\">\n",
       "  <thead>\n",
       "    <tr style=\"text-align: right;\">\n",
       "      <th></th>\n",
       "      <th>orderno</th>\n",
       "      <th>branch</th>\n",
       "      <th>saledate</th>\n",
       "      <th>chk_cancel</th>\n",
       "      <th>dcamount</th>\n",
       "      <th>oriamount</th>\n",
       "      <th>tamount</th>\n",
       "    </tr>\n",
       "  </thead>\n",
       "  <tbody>\n",
       "    <tr>\n",
       "      <th>0</th>\n",
       "      <td>201903140001</td>\n",
       "      <td>BK0008</td>\n",
       "      <td>2019-03-14 14:11:00</td>\n",
       "      <td>1</td>\n",
       "      <td>0</td>\n",
       "      <td>2300</td>\n",
       "      <td>2300</td>\n",
       "    </tr>\n",
       "  </tbody>\n",
       "</table>\n",
       "</div>"
      ],
      "text/plain": [
       "        orderno  branch            saledate  chk_cancel  dcamount  oriamount  \\\n",
       "0  201903140001  BK0008 2019-03-14 14:11:00           1         0       2300   \n",
       "\n",
       "   tamount  \n",
       "0     2300  "
      ]
     },
     "execution_count": 569,
     "metadata": {},
     "output_type": "execute_result"
    }
   ],
   "source": [
    "# new dataframes with converted datetimes\n",
    "df2019 = convert_dates(df_sales2019)\n",
    "df2018 = convert_dates(df_sales2018)\n",
    "df2019.head(1)"
   ]
  },
  {
   "cell_type": "code",
   "execution_count": 570,
   "metadata": {},
   "outputs": [
    {
     "name": "stdout",
     "output_type": "stream",
     "text": [
      "<class 'pandas.core.frame.DataFrame'>\n",
      "RangeIndex: 1521588 entries, 0 to 1521587\n",
      "Data columns (total 7 columns):\n",
      "orderno       1521588 non-null object\n",
      "branch        1521588 non-null object\n",
      "saledate      1521588 non-null datetime64[ns]\n",
      "chk_cancel    1521588 non-null int64\n",
      "dcamount      1521588 non-null int64\n",
      "oriamount     1521588 non-null int64\n",
      "tamount       1521588 non-null int64\n",
      "dtypes: datetime64[ns](1), int64(4), object(2)\n",
      "memory usage: 81.3+ MB\n"
     ]
    }
   ],
   "source": [
    "df2019.info()"
   ]
  },
  {
   "cell_type": "code",
   "execution_count": 598,
   "metadata": {},
   "outputs": [],
   "source": [
    "def store_dataframe(df, interval):\n",
    "    \"\"\"\n",
    "    Dataframe with datetime interval as rows and each store's tamount as columns.\n",
    "    \n",
    "    Parameters\n",
    "    ==========\n",
    "    df: Pandas DataFrame\n",
    "        Dataframe output from convert_dates() \n",
    "    interval: str\n",
    "        Label of the interval used to aggregate datetimes\n",
    "        \n",
    "    Returns\n",
    "    =======\n",
    "    Pandas DataFrame\n",
    "        New aggregated DataFrame of the all stores and time interval\n",
    "    \"\"\"\n",
    "    store_df = df.set_index('saledate')[[\"branch\", \"tamount\"]]\n",
    "    store_df = store_df.groupby(\"branch\").resample(interval, label='right').sum()\n",
    "    store_df = store_df[\"tamount\"].unstack(level=0)#.astype('Int64')\n",
    "    return store_df[1:] # drop first row (previous year sales)\n"
   ]
  },
  {
   "cell_type": "code",
   "execution_count": 599,
   "metadata": {},
   "outputs": [
    {
     "data": {
      "text/html": [
       "<div>\n",
       "<style scoped>\n",
       "    .dataframe tbody tr th:only-of-type {\n",
       "        vertical-align: middle;\n",
       "    }\n",
       "\n",
       "    .dataframe tbody tr th {\n",
       "        vertical-align: top;\n",
       "    }\n",
       "\n",
       "    .dataframe thead th {\n",
       "        text-align: right;\n",
       "    }\n",
       "</style>\n",
       "<table border=\"1\" class=\"dataframe\">\n",
       "  <thead>\n",
       "    <tr style=\"text-align: right;\">\n",
       "      <th>branch</th>\n",
       "      <th>BK0008</th>\n",
       "      <th>BK0010</th>\n",
       "      <th>BK0014</th>\n",
       "      <th>BK0016</th>\n",
       "      <th>BK0017</th>\n",
       "      <th>BK0018</th>\n",
       "      <th>BK0019</th>\n",
       "      <th>BK0020</th>\n",
       "      <th>BK0021</th>\n",
       "      <th>BK0022</th>\n",
       "      <th>...</th>\n",
       "      <th>BK0028</th>\n",
       "      <th>BK0029</th>\n",
       "      <th>BK1555</th>\n",
       "      <th>SWBK0006</th>\n",
       "      <th>SWSWBK0003</th>\n",
       "      <th>bk0009</th>\n",
       "      <th>bk0011</th>\n",
       "      <th>bk0016</th>\n",
       "      <th>bk0023</th>\n",
       "      <th>bk0026</th>\n",
       "    </tr>\n",
       "    <tr>\n",
       "      <th>saledate</th>\n",
       "      <th></th>\n",
       "      <th></th>\n",
       "      <th></th>\n",
       "      <th></th>\n",
       "      <th></th>\n",
       "      <th></th>\n",
       "      <th></th>\n",
       "      <th></th>\n",
       "      <th></th>\n",
       "      <th></th>\n",
       "      <th></th>\n",
       "      <th></th>\n",
       "      <th></th>\n",
       "      <th></th>\n",
       "      <th></th>\n",
       "      <th></th>\n",
       "      <th></th>\n",
       "      <th></th>\n",
       "      <th></th>\n",
       "      <th></th>\n",
       "      <th></th>\n",
       "    </tr>\n",
       "  </thead>\n",
       "  <tbody>\n",
       "    <tr>\n",
       "      <th>2019-01-31</th>\n",
       "      <td>NaN</td>\n",
       "      <td>27616850.0</td>\n",
       "      <td>32120850.0</td>\n",
       "      <td>9476600.0</td>\n",
       "      <td>17817090.0</td>\n",
       "      <td>49449650.0</td>\n",
       "      <td>73158360.0</td>\n",
       "      <td>52265470.0</td>\n",
       "      <td>6054100.0</td>\n",
       "      <td>23664400.0</td>\n",
       "      <td>...</td>\n",
       "      <td>NaN</td>\n",
       "      <td>NaN</td>\n",
       "      <td>19933100.0</td>\n",
       "      <td>53670950.0</td>\n",
       "      <td>50362100.0</td>\n",
       "      <td>15570500.0</td>\n",
       "      <td>49746750.0</td>\n",
       "      <td>NaN</td>\n",
       "      <td>NaN</td>\n",
       "      <td>NaN</td>\n",
       "    </tr>\n",
       "    <tr>\n",
       "      <th>2019-02-28</th>\n",
       "      <td>NaN</td>\n",
       "      <td>20143750.0</td>\n",
       "      <td>26576150.0</td>\n",
       "      <td>7328300.0</td>\n",
       "      <td>13183010.0</td>\n",
       "      <td>42068350.0</td>\n",
       "      <td>60155120.0</td>\n",
       "      <td>44193120.0</td>\n",
       "      <td>3955050.0</td>\n",
       "      <td>20222450.0</td>\n",
       "      <td>...</td>\n",
       "      <td>NaN</td>\n",
       "      <td>NaN</td>\n",
       "      <td>14902650.0</td>\n",
       "      <td>42085450.0</td>\n",
       "      <td>42372520.0</td>\n",
       "      <td>9675100.0</td>\n",
       "      <td>40029250.0</td>\n",
       "      <td>NaN</td>\n",
       "      <td>NaN</td>\n",
       "      <td>NaN</td>\n",
       "    </tr>\n",
       "    <tr>\n",
       "      <th>2019-03-31</th>\n",
       "      <td>2300.0</td>\n",
       "      <td>23794500.0</td>\n",
       "      <td>34445750.0</td>\n",
       "      <td>12136200.0</td>\n",
       "      <td>18500140.0</td>\n",
       "      <td>50182400.0</td>\n",
       "      <td>75233910.0</td>\n",
       "      <td>66544330.0</td>\n",
       "      <td>5251800.0</td>\n",
       "      <td>24355050.0</td>\n",
       "      <td>...</td>\n",
       "      <td>NaN</td>\n",
       "      <td>NaN</td>\n",
       "      <td>17144000.0</td>\n",
       "      <td>63679500.0</td>\n",
       "      <td>52472420.0</td>\n",
       "      <td>31303700.0</td>\n",
       "      <td>46045450.0</td>\n",
       "      <td>NaN</td>\n",
       "      <td>NaN</td>\n",
       "      <td>NaN</td>\n",
       "    </tr>\n",
       "    <tr>\n",
       "      <th>2019-04-30</th>\n",
       "      <td>3000.0</td>\n",
       "      <td>25440300.0</td>\n",
       "      <td>38331200.0</td>\n",
       "      <td>13343800.0</td>\n",
       "      <td>21088580.0</td>\n",
       "      <td>52066800.0</td>\n",
       "      <td>73853400.0</td>\n",
       "      <td>74502530.0</td>\n",
       "      <td>6195200.0</td>\n",
       "      <td>27481550.0</td>\n",
       "      <td>...</td>\n",
       "      <td>NaN</td>\n",
       "      <td>NaN</td>\n",
       "      <td>20517000.0</td>\n",
       "      <td>69185050.0</td>\n",
       "      <td>57099560.0</td>\n",
       "      <td>39107450.0</td>\n",
       "      <td>48026550.0</td>\n",
       "      <td>NaN</td>\n",
       "      <td>NaN</td>\n",
       "      <td>NaN</td>\n",
       "    </tr>\n",
       "    <tr>\n",
       "      <th>2019-05-31</th>\n",
       "      <td>0.0</td>\n",
       "      <td>26134550.0</td>\n",
       "      <td>35974150.0</td>\n",
       "      <td>13066400.0</td>\n",
       "      <td>17538520.0</td>\n",
       "      <td>48597450.0</td>\n",
       "      <td>70697040.0</td>\n",
       "      <td>74445240.0</td>\n",
       "      <td>5552100.0</td>\n",
       "      <td>29433750.0</td>\n",
       "      <td>...</td>\n",
       "      <td>NaN</td>\n",
       "      <td>NaN</td>\n",
       "      <td>17937350.0</td>\n",
       "      <td>77582900.0</td>\n",
       "      <td>59159590.0</td>\n",
       "      <td>34896550.0</td>\n",
       "      <td>44018650.0</td>\n",
       "      <td>NaN</td>\n",
       "      <td>NaN</td>\n",
       "      <td>NaN</td>\n",
       "    </tr>\n",
       "  </tbody>\n",
       "</table>\n",
       "<p>5 rows × 23 columns</p>\n",
       "</div>"
      ],
      "text/plain": [
       "branch      BK0008      BK0010      BK0014      BK0016      BK0017  \\\n",
       "saledate                                                             \n",
       "2019-01-31     NaN  27616850.0  32120850.0   9476600.0  17817090.0   \n",
       "2019-02-28     NaN  20143750.0  26576150.0   7328300.0  13183010.0   \n",
       "2019-03-31  2300.0  23794500.0  34445750.0  12136200.0  18500140.0   \n",
       "2019-04-30  3000.0  25440300.0  38331200.0  13343800.0  21088580.0   \n",
       "2019-05-31     0.0  26134550.0  35974150.0  13066400.0  17538520.0   \n",
       "\n",
       "branch          BK0018      BK0019      BK0020     BK0021      BK0022  ...  \\\n",
       "saledate                                                               ...   \n",
       "2019-01-31  49449650.0  73158360.0  52265470.0  6054100.0  23664400.0  ...   \n",
       "2019-02-28  42068350.0  60155120.0  44193120.0  3955050.0  20222450.0  ...   \n",
       "2019-03-31  50182400.0  75233910.0  66544330.0  5251800.0  24355050.0  ...   \n",
       "2019-04-30  52066800.0  73853400.0  74502530.0  6195200.0  27481550.0  ...   \n",
       "2019-05-31  48597450.0  70697040.0  74445240.0  5552100.0  29433750.0  ...   \n",
       "\n",
       "branch      BK0028  BK0029      BK1555    SWBK0006  SWSWBK0003      bk0009  \\\n",
       "saledate                                                                     \n",
       "2019-01-31     NaN     NaN  19933100.0  53670950.0  50362100.0  15570500.0   \n",
       "2019-02-28     NaN     NaN  14902650.0  42085450.0  42372520.0   9675100.0   \n",
       "2019-03-31     NaN     NaN  17144000.0  63679500.0  52472420.0  31303700.0   \n",
       "2019-04-30     NaN     NaN  20517000.0  69185050.0  57099560.0  39107450.0   \n",
       "2019-05-31     NaN     NaN  17937350.0  77582900.0  59159590.0  34896550.0   \n",
       "\n",
       "branch          bk0011  bk0016  bk0023  bk0026  \n",
       "saledate                                        \n",
       "2019-01-31  49746750.0     NaN     NaN     NaN  \n",
       "2019-02-28  40029250.0     NaN     NaN     NaN  \n",
       "2019-03-31  46045450.0     NaN     NaN     NaN  \n",
       "2019-04-30  48026550.0     NaN     NaN     NaN  \n",
       "2019-05-31  44018650.0     NaN     NaN     NaN  \n",
       "\n",
       "[5 rows x 23 columns]"
      ]
     },
     "execution_count": 599,
     "metadata": {},
     "output_type": "execute_result"
    }
   ],
   "source": [
    "# get df with all branches as column broken down to months\n",
    "store_df = store_dataframe(df2019, \"M\")\n",
    "store_df.head(5)"
   ]
  },
  {
   "cell_type": "code",
   "execution_count": 272,
   "metadata": {
    "scrolled": true
   },
   "outputs": [
    {
     "data": {
      "text/html": [
       "<div>\n",
       "<style scoped>\n",
       "    .dataframe tbody tr th:only-of-type {\n",
       "        vertical-align: middle;\n",
       "    }\n",
       "\n",
       "    .dataframe tbody tr th {\n",
       "        vertical-align: top;\n",
       "    }\n",
       "\n",
       "    .dataframe thead th {\n",
       "        text-align: right;\n",
       "    }\n",
       "</style>\n",
       "<table border=\"1\" class=\"dataframe\">\n",
       "  <thead>\n",
       "    <tr style=\"text-align: right;\">\n",
       "      <th>branch</th>\n",
       "      <th>BK0008</th>\n",
       "      <th>BK0010</th>\n",
       "      <th>BK0014</th>\n",
       "      <th>BK0016</th>\n",
       "      <th>BK0017</th>\n",
       "      <th>BK0018</th>\n",
       "      <th>BK0019</th>\n",
       "      <th>BK0020</th>\n",
       "      <th>BK0021</th>\n",
       "      <th>BK0022</th>\n",
       "      <th>...</th>\n",
       "      <th>BK0028</th>\n",
       "      <th>BK0029</th>\n",
       "      <th>BK1555</th>\n",
       "      <th>SWBK0006</th>\n",
       "      <th>SWSWBK0003</th>\n",
       "      <th>bk0009</th>\n",
       "      <th>bk0011</th>\n",
       "      <th>bk0016</th>\n",
       "      <th>bk0023</th>\n",
       "      <th>bk0026</th>\n",
       "    </tr>\n",
       "    <tr>\n",
       "      <th>saledate</th>\n",
       "      <th></th>\n",
       "      <th></th>\n",
       "      <th></th>\n",
       "      <th></th>\n",
       "      <th></th>\n",
       "      <th></th>\n",
       "      <th></th>\n",
       "      <th></th>\n",
       "      <th></th>\n",
       "      <th></th>\n",
       "      <th></th>\n",
       "      <th></th>\n",
       "      <th></th>\n",
       "      <th></th>\n",
       "      <th></th>\n",
       "      <th></th>\n",
       "      <th></th>\n",
       "      <th></th>\n",
       "      <th></th>\n",
       "      <th></th>\n",
       "      <th></th>\n",
       "    </tr>\n",
       "  </thead>\n",
       "  <tbody>\n",
       "    <tr>\n",
       "      <th>2019-01-31</th>\n",
       "      <td>NaN</td>\n",
       "      <td>27616850.0</td>\n",
       "      <td>32120850.0</td>\n",
       "      <td>9476600.0</td>\n",
       "      <td>17817090.0</td>\n",
       "      <td>49449650.0</td>\n",
       "      <td>73158360.0</td>\n",
       "      <td>52265470.0</td>\n",
       "      <td>6054100.0</td>\n",
       "      <td>23664400.0</td>\n",
       "      <td>...</td>\n",
       "      <td>NaN</td>\n",
       "      <td>NaN</td>\n",
       "      <td>19933100.0</td>\n",
       "      <td>53670950.0</td>\n",
       "      <td>50362100.0</td>\n",
       "      <td>15570500.0</td>\n",
       "      <td>49746750.0</td>\n",
       "      <td>NaN</td>\n",
       "      <td>NaN</td>\n",
       "      <td>NaN</td>\n",
       "    </tr>\n",
       "    <tr>\n",
       "      <th>2019-02-28</th>\n",
       "      <td>NaN</td>\n",
       "      <td>20143750.0</td>\n",
       "      <td>26576150.0</td>\n",
       "      <td>7328300.0</td>\n",
       "      <td>13183010.0</td>\n",
       "      <td>42068350.0</td>\n",
       "      <td>60155120.0</td>\n",
       "      <td>44193120.0</td>\n",
       "      <td>3955050.0</td>\n",
       "      <td>20222450.0</td>\n",
       "      <td>...</td>\n",
       "      <td>NaN</td>\n",
       "      <td>NaN</td>\n",
       "      <td>14902650.0</td>\n",
       "      <td>42085450.0</td>\n",
       "      <td>42372520.0</td>\n",
       "      <td>9675100.0</td>\n",
       "      <td>40029250.0</td>\n",
       "      <td>NaN</td>\n",
       "      <td>NaN</td>\n",
       "      <td>NaN</td>\n",
       "    </tr>\n",
       "    <tr>\n",
       "      <th>2019-03-31</th>\n",
       "      <td>2300.0</td>\n",
       "      <td>23794500.0</td>\n",
       "      <td>34445750.0</td>\n",
       "      <td>12136200.0</td>\n",
       "      <td>18500140.0</td>\n",
       "      <td>50182400.0</td>\n",
       "      <td>75233910.0</td>\n",
       "      <td>66544330.0</td>\n",
       "      <td>5251800.0</td>\n",
       "      <td>24355050.0</td>\n",
       "      <td>...</td>\n",
       "      <td>NaN</td>\n",
       "      <td>NaN</td>\n",
       "      <td>17144000.0</td>\n",
       "      <td>63679500.0</td>\n",
       "      <td>52472420.0</td>\n",
       "      <td>31303700.0</td>\n",
       "      <td>46045450.0</td>\n",
       "      <td>NaN</td>\n",
       "      <td>NaN</td>\n",
       "      <td>NaN</td>\n",
       "    </tr>\n",
       "    <tr>\n",
       "      <th>2019-04-30</th>\n",
       "      <td>3000.0</td>\n",
       "      <td>25440300.0</td>\n",
       "      <td>38331200.0</td>\n",
       "      <td>13343800.0</td>\n",
       "      <td>21088580.0</td>\n",
       "      <td>52066800.0</td>\n",
       "      <td>73853400.0</td>\n",
       "      <td>74502530.0</td>\n",
       "      <td>6195200.0</td>\n",
       "      <td>27481550.0</td>\n",
       "      <td>...</td>\n",
       "      <td>NaN</td>\n",
       "      <td>NaN</td>\n",
       "      <td>20517000.0</td>\n",
       "      <td>69185050.0</td>\n",
       "      <td>57099560.0</td>\n",
       "      <td>39107450.0</td>\n",
       "      <td>48026550.0</td>\n",
       "      <td>NaN</td>\n",
       "      <td>NaN</td>\n",
       "      <td>NaN</td>\n",
       "    </tr>\n",
       "    <tr>\n",
       "      <th>2019-05-31</th>\n",
       "      <td>0.0</td>\n",
       "      <td>26134550.0</td>\n",
       "      <td>35974150.0</td>\n",
       "      <td>13066400.0</td>\n",
       "      <td>17538520.0</td>\n",
       "      <td>48597450.0</td>\n",
       "      <td>70697040.0</td>\n",
       "      <td>74445240.0</td>\n",
       "      <td>5552100.0</td>\n",
       "      <td>29433750.0</td>\n",
       "      <td>...</td>\n",
       "      <td>NaN</td>\n",
       "      <td>NaN</td>\n",
       "      <td>17937350.0</td>\n",
       "      <td>77582900.0</td>\n",
       "      <td>59159590.0</td>\n",
       "      <td>34896550.0</td>\n",
       "      <td>44018650.0</td>\n",
       "      <td>NaN</td>\n",
       "      <td>NaN</td>\n",
       "      <td>NaN</td>\n",
       "    </tr>\n",
       "  </tbody>\n",
       "</table>\n",
       "<p>5 rows × 23 columns</p>\n",
       "</div>"
      ],
      "text/plain": [
       "branch      BK0008      BK0010      BK0014      BK0016      BK0017  \\\n",
       "saledate                                                             \n",
       "2019-01-31     NaN  27616850.0  32120850.0   9476600.0  17817090.0   \n",
       "2019-02-28     NaN  20143750.0  26576150.0   7328300.0  13183010.0   \n",
       "2019-03-31  2300.0  23794500.0  34445750.0  12136200.0  18500140.0   \n",
       "2019-04-30  3000.0  25440300.0  38331200.0  13343800.0  21088580.0   \n",
       "2019-05-31     0.0  26134550.0  35974150.0  13066400.0  17538520.0   \n",
       "\n",
       "branch          BK0018      BK0019      BK0020     BK0021      BK0022  ...  \\\n",
       "saledate                                                               ...   \n",
       "2019-01-31  49449650.0  73158360.0  52265470.0  6054100.0  23664400.0  ...   \n",
       "2019-02-28  42068350.0  60155120.0  44193120.0  3955050.0  20222450.0  ...   \n",
       "2019-03-31  50182400.0  75233910.0  66544330.0  5251800.0  24355050.0  ...   \n",
       "2019-04-30  52066800.0  73853400.0  74502530.0  6195200.0  27481550.0  ...   \n",
       "2019-05-31  48597450.0  70697040.0  74445240.0  5552100.0  29433750.0  ...   \n",
       "\n",
       "branch      BK0028  BK0029      BK1555    SWBK0006  SWSWBK0003      bk0009  \\\n",
       "saledate                                                                     \n",
       "2019-01-31     NaN     NaN  19933100.0  53670950.0  50362100.0  15570500.0   \n",
       "2019-02-28     NaN     NaN  14902650.0  42085450.0  42372520.0   9675100.0   \n",
       "2019-03-31     NaN     NaN  17144000.0  63679500.0  52472420.0  31303700.0   \n",
       "2019-04-30     NaN     NaN  20517000.0  69185050.0  57099560.0  39107450.0   \n",
       "2019-05-31     NaN     NaN  17937350.0  77582900.0  59159590.0  34896550.0   \n",
       "\n",
       "branch          bk0011  bk0016  bk0023  bk0026  \n",
       "saledate                                        \n",
       "2019-01-31  49746750.0     NaN     NaN     NaN  \n",
       "2019-02-28  40029250.0     NaN     NaN     NaN  \n",
       "2019-03-31  46045450.0     NaN     NaN     NaN  \n",
       "2019-04-30  48026550.0     NaN     NaN     NaN  \n",
       "2019-05-31  44018650.0     NaN     NaN     NaN  \n",
       "\n",
       "[5 rows x 23 columns]"
      ]
     },
     "execution_count": 272,
     "metadata": {},
     "output_type": "execute_result"
    }
   ],
   "source": [
    "store_df.head()"
   ]
  },
  {
   "cell_type": "code",
   "execution_count": 477,
   "metadata": {},
   "outputs": [],
   "source": [
    "def saledate_decomp(df):\n",
    "    \"\"\"\n",
    "    Decompose the saledate column into sub-components of time delta.\n",
    "    \n",
    "    Parameters\n",
    "    ==========\n",
    "    df: Pandas DataFrame\n",
    "        Dataframe output from convert_dates() \n",
    "    \n",
    "    Returns\n",
    "    =======\n",
    "    Pandas DataFrame\n",
    "        New dataframe with decomposed salesdate columns appended   \n",
    "    \"\"\"\n",
    "    \n",
    "    df_new = df[[\"branch\", \"saledate\", \"tamount\"]].copy()\n",
    "    df_new[\"year\"] = df_new[\"saledate\"].dt.year\n",
    "    df_new[\"month\"] = df_new[\"saledate\"].dt.month\n",
    "    df_new[\"day\"] = df_new[\"saledate\"].dt.day\n",
    "    df_new[\"hour\"] = df_new[\"saledate\"].dt.hour\n",
    "    df_new[\"minute\"] = df_new[\"saledate\"].dt.minute\n",
    "    df_new[\"day_of_week\"] = df_new[\"saledate\"].dt.dayofweek\n",
    "    value = df_new[\"year\"].value_counts().idxmax()\n",
    "    del df_new[\"saledate\"]\n",
    "    return df_new[df_new[\"year\"]==value] # exclude pre-year dates"
   ]
  },
  {
   "cell_type": "code",
   "execution_count": 329,
   "metadata": {},
   "outputs": [
    {
     "data": {
      "text/html": [
       "<div>\n",
       "<style scoped>\n",
       "    .dataframe tbody tr th:only-of-type {\n",
       "        vertical-align: middle;\n",
       "    }\n",
       "\n",
       "    .dataframe tbody tr th {\n",
       "        vertical-align: top;\n",
       "    }\n",
       "\n",
       "    .dataframe thead th {\n",
       "        text-align: right;\n",
       "    }\n",
       "</style>\n",
       "<table border=\"1\" class=\"dataframe\">\n",
       "  <thead>\n",
       "    <tr style=\"text-align: right;\">\n",
       "      <th></th>\n",
       "      <th>branch</th>\n",
       "      <th>tamount</th>\n",
       "      <th>year</th>\n",
       "      <th>month</th>\n",
       "      <th>day</th>\n",
       "      <th>hour</th>\n",
       "      <th>minute</th>\n",
       "      <th>day_of_week</th>\n",
       "    </tr>\n",
       "  </thead>\n",
       "  <tbody>\n",
       "    <tr>\n",
       "      <th>0</th>\n",
       "      <td>BK0008</td>\n",
       "      <td>2300.0</td>\n",
       "      <td>2019</td>\n",
       "      <td>3</td>\n",
       "      <td>14</td>\n",
       "      <td>14</td>\n",
       "      <td>11</td>\n",
       "      <td>3</td>\n",
       "    </tr>\n",
       "    <tr>\n",
       "      <th>1</th>\n",
       "      <td>BK0008</td>\n",
       "      <td>3000.0</td>\n",
       "      <td>2019</td>\n",
       "      <td>4</td>\n",
       "      <td>16</td>\n",
       "      <td>12</td>\n",
       "      <td>24</td>\n",
       "      <td>1</td>\n",
       "    </tr>\n",
       "    <tr>\n",
       "      <th>2</th>\n",
       "      <td>BK0008</td>\n",
       "      <td>4600.0</td>\n",
       "      <td>2019</td>\n",
       "      <td>6</td>\n",
       "      <td>11</td>\n",
       "      <td>17</td>\n",
       "      <td>56</td>\n",
       "      <td>1</td>\n",
       "    </tr>\n",
       "    <tr>\n",
       "      <th>3</th>\n",
       "      <td>BK0008</td>\n",
       "      <td>4000.0</td>\n",
       "      <td>2019</td>\n",
       "      <td>6</td>\n",
       "      <td>24</td>\n",
       "      <td>17</td>\n",
       "      <td>9</td>\n",
       "      <td>0</td>\n",
       "    </tr>\n",
       "    <tr>\n",
       "      <th>4</th>\n",
       "      <td>BK0008</td>\n",
       "      <td>5100.0</td>\n",
       "      <td>2019</td>\n",
       "      <td>6</td>\n",
       "      <td>24</td>\n",
       "      <td>17</td>\n",
       "      <td>13</td>\n",
       "      <td>0</td>\n",
       "    </tr>\n",
       "  </tbody>\n",
       "</table>\n",
       "</div>"
      ],
      "text/plain": [
       "   branch  tamount  year  month  day  hour  minute  day_of_week\n",
       "0  BK0008   2300.0  2019      3   14    14      11            3\n",
       "1  BK0008   3000.0  2019      4   16    12      24            1\n",
       "2  BK0008   4600.0  2019      6   11    17      56            1\n",
       "3  BK0008   4000.0  2019      6   24    17       9            0\n",
       "4  BK0008   5100.0  2019      6   24    17      13            0"
      ]
     },
     "execution_count": 329,
     "metadata": {},
     "output_type": "execute_result"
    }
   ],
   "source": [
    "test = saledate_decomp(df2019)\n",
    "test.head()"
   ]
  },
  {
   "cell_type": "code",
   "execution_count": 335,
   "metadata": {},
   "outputs": [
    {
     "data": {
      "text/plain": [
       "<matplotlib.axes._subplots.AxesSubplot at 0x1a7dc81d90>"
      ]
     },
     "execution_count": 335,
     "metadata": {},
     "output_type": "execute_result"
    },
    {
     "data": {
      "image/png": "[encoded data removed]",
      "text/plain": [
       "<Figure size 432x288 with 1 Axes>"
      ]
     },
     "metadata": {
      "needs_background": "light"
     },
     "output_type": "display_data"
    }
   ],
   "source": [
    "test.groupby([\"branch\", \"day_of_week\"]).count()[\"tamount\"].unstack(level=0).plot(legend=False)"
   ]
  },
  {
   "cell_type": "code",
   "execution_count": 314,
   "metadata": {},
   "outputs": [
    {
     "data": {
      "application/vnd.plotly.v1+json": {
       "config": {
        "plotlyServerURL": "https://plot.ly"
       },
       "data": [
        {
         "hoverlabel": {
          "namelength": 0
         },
         "hovertemplate": "<b>%{hovertext}</b><br><br>branch=BK0008<br>day_of_week=%{x}<br>tamount=%{y}",
         "hovertext": [
          "BK0008",
          "BK0008",
          "BK0008",
          "BK0008",
          "BK0008",
          "BK0008",
          "BK0008"
         ],
         "legendgroup": "branch=BK0008",
         "line": {
          "color": "#636efa",
          "dash": "solid"
         },
         "mode": "lines",
         "name": "branch=BK0008",
         "showlegend": true,
         "type": "scatter",
         "x": [
          0,
          1,
          2,
          3,
          4,
          5,
          6
         ],
         "xaxis": "x",
         "y": [
          4469.767441860465,
          5120.27027027027,
          5997.619047619048,
          4859.701492537313,
          4950,
          7531.585365853659,
          5112.467532467533
         ],
         "yaxis": "y"
        },
        {
         "hoverlabel": {
          "namelength": 0
         },
         "hovertemplate": "<b>%{hovertext}</b><br><br>branch=BK0010<br>day_of_week=%{x}<br>tamount=%{y}",
         "hovertext": [
          "BK0010",
          "BK0010",
          "BK0010",
          "BK0010",
          "BK0010",
          "BK0010"
         ],
         "legendgroup": "branch=BK0010",
         "line": {
          "color": "#EF553B",
          "dash": "solid"
         },
         "mode": "lines",
         "name": "branch=BK0010",
         "showlegend": true,
         "type": "scatter",
         "x": [
          0,
          1,
          2,
          3,
          4,
          5
         ],
         "xaxis": "x",
         "y": [
          3485.6353591160223,
          3529.0753589338465,
          3533.8229960101557,
          3553.1480692788186,
          3582.626884248375,
          3703.6500780301717
         ],
         "yaxis": "y"
        },
        {
         "hoverlabel": {
          "namelength": 0
         },
         "hovertemplate": "<b>%{hovertext}</b><br><br>branch=BK0014<br>day_of_week=%{x}<br>tamount=%{y}",
         "hovertext": [
          "BK0014",
          "BK0014",
          "BK0014",
          "BK0014",
          "BK0014",
          "BK0014"
         ],
         "legendgroup": "branch=BK0014",
         "line": {
          "color": "#00cc96",
          "dash": "solid"
         },
         "mode": "lines",
         "name": "branch=BK0014",
         "showlegend": true,
         "type": "scatter",
         "x": [
          0,
          1,
          2,
          3,
          4,
          5
         ],
         "xaxis": "x",
         "y": [
          3466.069567067333,
          3624.434509065689,
          3569.411672746222,
          3526.8487266032525,
          3615.9488704518194,
          3730.890452413376
         ],
         "yaxis": "y"
        },
        {
         "hoverlabel": {
          "namelength": 0
         },
         "hovertemplate": "<b>%{hovertext}</b><br><br>branch=BK0016<br>day_of_week=%{x}<br>tamount=%{y}",
         "hovertext": [
          "BK0016",
          "BK0016",
          "BK0016",
          "BK0016",
          "BK0016",
          "BK0016"
         ],
         "legendgroup": "branch=BK0016",
         "line": {
          "color": "#ab63fa",
          "dash": "solid"
         },
         "mode": "lines",
         "name": "branch=BK0016",
         "showlegend": true,
         "type": "scatter",
         "x": [
          0,
          1,
          2,
          3,
          4,
          5
         ],
         "xaxis": "x",
         "y": [
          3672.2880061115357,
          3632.933819697759,
          3693.2613551749814,
          3795.506934948232,
          3724.790517065195,
          4032.848588537211
         ],
         "yaxis": "y"
        },
        {
         "hoverlabel": {
          "namelength": 0
         },
         "hovertemplate": "<b>%{hovertext}</b><br><br>branch=BK0017<br>day_of_week=%{x}<br>tamount=%{y}",
         "hovertext": [
          "BK0017",
          "BK0017",
          "BK0017",
          "BK0017",
          "BK0017",
          "BK0017"
         ],
         "legendgroup": "branch=BK0017",
         "line": {
          "color": "#FFA15A",
          "dash": "solid"
         },
         "mode": "lines",
         "name": "branch=BK0017",
         "showlegend": true,
         "type": "scatter",
         "x": [
          0,
          1,
          2,
          3,
          4,
          5
         ],
         "xaxis": "x",
         "y": [
          3954.1455696202534,
          3882.8220672931193,
          3979.987105093488,
          4062.0155378050113,
          4074.4287093659477,
          4378.905154639176
         ],
         "yaxis": "y"
        },
        {
         "hoverlabel": {
          "namelength": 0
         },
         "hovertemplate": "<b>%{hovertext}</b><br><br>branch=BK0018<br>day_of_week=%{x}<br>tamount=%{y}",
         "hovertext": [
          "BK0018",
          "BK0018",
          "BK0018",
          "BK0018",
          "BK0018",
          "BK0018",
          "BK0018"
         ],
         "legendgroup": "branch=BK0018",
         "line": {
          "color": "#19d3f3",
          "dash": "solid"
         },
         "mode": "lines",
         "name": "branch=BK0018",
         "showlegend": true,
         "type": "scatter",
         "x": [
          0,
          1,
          2,
          3,
          4,
          5,
          6
         ],
         "xaxis": "x",
         "y": [
          3547.836202678055,
          3607.976613447268,
          3615.5207212055975,
          3586.159868333259,
          3680.0412003172646,
          3786.3229231086375,
          3734.088545052659
         ],
         "yaxis": "y"
        },
        {
         "hoverlabel": {
          "namelength": 0
         },
         "hovertemplate": "<b>%{hovertext}</b><br><br>branch=BK0019<br>day_of_week=%{x}<br>tamount=%{y}",
         "hovertext": [
          "BK0019",
          "BK0019",
          "BK0019",
          "BK0019",
          "BK0019",
          "BK0019",
          "BK0019"
         ],
         "legendgroup": "branch=BK0019",
         "line": {
          "color": "#FF6692",
          "dash": "solid"
         },
         "mode": "lines",
         "name": "branch=BK0019",
         "showlegend": true,
         "type": "scatter",
         "x": [
          0,
          1,
          2,
          3,
          4,
          5,
          6
         ],
         "xaxis": "x",
         "y": [
          3770.912908709129,
          3823.436851700509,
          3808.666217689693,
          3861.680224675576,
          3884.202312503949,
          4070.33859968942,
          3999.6072195277093
         ],
         "yaxis": "y"
        },
        {
         "hoverlabel": {
          "namelength": 0
         },
         "hovertemplate": "<b>%{hovertext}</b><br><br>branch=BK0020<br>day_of_week=%{x}<br>tamount=%{y}",
         "hovertext": [
          "BK0020",
          "BK0020",
          "BK0020",
          "BK0020",
          "BK0020",
          "BK0020",
          "BK0020"
         ],
         "legendgroup": "branch=BK0020",
         "line": {
          "color": "#B6E880",
          "dash": "solid"
         },
         "mode": "lines",
         "name": "branch=BK0020",
         "showlegend": true,
         "type": "scatter",
         "x": [
          0,
          1,
          2,
          3,
          4,
          5,
          6
         ],
         "xaxis": "x",
         "y": [
          5174.029924205139,
          5261.998691221838,
          5358.935525131461,
          5535.179601096512,
          5408.986196389825,
          5707.504393673111,
          5606.240416210296
         ],
         "yaxis": "y"
        },
        {
         "hoverlabel": {
          "namelength": 0
         },
         "hovertemplate": "<b>%{hovertext}</b><br><br>branch=BK0021<br>day_of_week=%{x}<br>tamount=%{y}",
         "hovertext": [
          "BK0021",
          "BK0021",
          "BK0021",
          "BK0021",
          "BK0021",
          "BK0021",
          "BK0021"
         ],
         "legendgroup": "branch=BK0021",
         "line": {
          "color": "#FF97FF",
          "dash": "solid"
         },
         "mode": "lines",
         "name": "branch=BK0021",
         "showlegend": true,
         "type": "scatter",
         "x": [
          0,
          1,
          2,
          3,
          4,
          5,
          6
         ],
         "xaxis": "x",
         "y": [
          4618.119891008175,
          4554.368108566582,
          4691.057091882248,
          4677.439921530162,
          4743.551797040169,
          6211.188811188811,
          5082.991803278688
         ],
         "yaxis": "y"
        },
        {
         "hoverlabel": {
          "namelength": 0
         },
         "hovertemplate": "<b>%{hovertext}</b><br><br>branch=BK0022<br>day_of_week=%{x}<br>tamount=%{y}",
         "hovertext": [
          "BK0022",
          "BK0022",
          "BK0022",
          "BK0022",
          "BK0022",
          "BK0022"
         ],
         "legendgroup": "branch=BK0022",
         "line": {
          "color": "#FECB52",
          "dash": "solid"
         },
         "mode": "lines",
         "name": "branch=BK0022",
         "showlegend": true,
         "type": "scatter",
         "x": [
          0,
          1,
          2,
          3,
          4,
          5
         ],
         "xaxis": "x",
         "y": [
          4261.345707656613,
          4200.785280394401,
          4266.535091601027,
          4381.06790992259,
          4580.364492500872,
          4321.4227994227995
         ],
         "yaxis": "y"
        },
        {
         "hoverlabel": {
          "namelength": 0
         },
         "hovertemplate": "<b>%{hovertext}</b><br><br>branch=BK0024<br>day_of_week=%{x}<br>tamount=%{y}",
         "hovertext": [
          "BK0024",
          "BK0024",
          "BK0024",
          "BK0024",
          "BK0024",
          "BK0024"
         ],
         "legendgroup": "branch=BK0024",
         "line": {
          "color": "#636efa",
          "dash": "solid"
         },
         "mode": "lines",
         "name": "branch=BK0024",
         "showlegend": true,
         "type": "scatter",
         "x": [
          0,
          1,
          2,
          3,
          4,
          5
         ],
         "xaxis": "x",
         "y": [
          4239.946444510562,
          4469.181683899556,
          4394.612068965517,
          4427.629436665581,
          4468.270723377833,
          5147.01
         ],
         "yaxis": "y"
        },
        {
         "hoverlabel": {
          "namelength": 0
         },
         "hovertemplate": "<b>%{hovertext}</b><br><br>branch=BK0025<br>day_of_week=%{x}<br>tamount=%{y}",
         "hovertext": [
          "BK0025",
          "BK0025",
          "BK0025",
          "BK0025",
          "BK0025",
          "BK0025",
          "BK0025"
         ],
         "legendgroup": "branch=BK0025",
         "line": {
          "color": "#EF553B",
          "dash": "solid"
         },
         "mode": "lines",
         "name": "branch=BK0025",
         "showlegend": true,
         "type": "scatter",
         "x": [
          0,
          1,
          2,
          3,
          4,
          5,
          6
         ],
         "xaxis": "x",
         "y": [
          3940.9189189189187,
          3906.105308964317,
          3955.581622678397,
          3855.951169888098,
          4145.98166907863,
          3864.2705735660847,
          3947.5862068965516
         ],
         "yaxis": "y"
        },
        {
         "hoverlabel": {
          "namelength": 0
         },
         "hovertemplate": "<b>%{hovertext}</b><br><br>branch=BK0027<br>day_of_week=%{x}<br>tamount=%{y}",
         "hovertext": [
          "BK0027",
          "BK0027",
          "BK0027",
          "BK0027",
          "BK0027",
          "BK0027",
          "BK0027"
         ],
         "legendgroup": "branch=BK0027",
         "line": {
          "color": "#00cc96",
          "dash": "solid"
         },
         "mode": "lines",
         "name": "branch=BK0027",
         "showlegend": true,
         "type": "scatter",
         "x": [
          0,
          1,
          2,
          3,
          4,
          5,
          6
         ],
         "xaxis": "x",
         "y": [
          3899.453047775947,
          4098.907640380485,
          3997.22483537159,
          4145.802391441158,
          4181.66814028883,
          4258.650217706821,
          4266.466049382716
         ],
         "yaxis": "y"
        },
        {
         "hoverlabel": {
          "namelength": 0
         },
         "hovertemplate": "<b>%{hovertext}</b><br><br>branch=BK0028<br>day_of_week=%{x}<br>tamount=%{y}",
         "hovertext": [
          "BK0028",
          "BK0028",
          "BK0028",
          "BK0028",
          "BK0028",
          "BK0028",
          "BK0028"
         ],
         "legendgroup": "branch=BK0028",
         "line": {
          "color": "#ab63fa",
          "dash": "solid"
         },
         "mode": "lines",
         "name": "branch=BK0028",
         "showlegend": true,
         "type": "scatter",
         "x": [
          0,
          1,
          2,
          3,
          4,
          5,
          6
         ],
         "xaxis": "x",
         "y": [
          4379.266055045871,
          4509.984496124031,
          4552.595204513399,
          4633.4,
          4388.858218318695,
          4610.515574650913,
          4693.07570977918
         ],
         "yaxis": "y"
        },
        {
         "hoverlabel": {
          "namelength": 0
         },
         "hovertemplate": "<b>%{hovertext}</b><br><br>branch=BK0029<br>day_of_week=%{x}<br>tamount=%{y}",
         "hovertext": [
          "BK0029",
          "BK0029",
          "BK0029",
          "BK0029",
          "BK0029",
          "BK0029"
         ],
         "legendgroup": "branch=BK0029",
         "line": {
          "color": "#FFA15A",
          "dash": "solid"
         },
         "mode": "lines",
         "name": "branch=BK0029",
         "showlegend": true,
         "type": "scatter",
         "x": [
          0,
          1,
          2,
          3,
          4,
          5
         ],
         "xaxis": "x",
         "y": [
          4855.504,
          3723.059210526316,
          3510.5479452054797,
          3915.8285714285716,
          3785.022970903522,
          3569.6606786427146
         ],
         "yaxis": "y"
        },
        {
         "hoverlabel": {
          "namelength": 0
         },
         "hovertemplate": "<b>%{hovertext}</b><br><br>branch=BK1555<br>day_of_week=%{x}<br>tamount=%{y}",
         "hovertext": [
          "BK1555",
          "BK1555",
          "BK1555",
          "BK1555",
          "BK1555",
          "BK1555"
         ],
         "legendgroup": "branch=BK1555",
         "line": {
          "color": "#19d3f3",
          "dash": "solid"
         },
         "mode": "lines",
         "name": "branch=BK1555",
         "showlegend": true,
         "type": "scatter",
         "x": [
          0,
          1,
          2,
          3,
          4,
          5
         ],
         "xaxis": "x",
         "y": [
          3472.846140681157,
          3576.2713402061854,
          3705.7475286501617,
          3473.283308611814,
          3540.7296137339054,
          3603.146453089245
         ],
         "yaxis": "y"
        },
        {
         "hoverlabel": {
          "namelength": 0
         },
         "hovertemplate": "<b>%{hovertext}</b><br><br>branch=SWBK0006<br>day_of_week=%{x}<br>tamount=%{y}",
         "hovertext": [
          "SWBK0006",
          "SWBK0006",
          "SWBK0006",
          "SWBK0006",
          "SWBK0006",
          "SWBK0006"
         ],
         "legendgroup": "branch=SWBK0006",
         "line": {
          "color": "#FF6692",
          "dash": "solid"
         },
         "mode": "lines",
         "name": "branch=SWBK0006",
         "showlegend": true,
         "type": "scatter",
         "x": [
          0,
          1,
          2,
          3,
          4,
          5
         ],
         "xaxis": "x",
         "y": [
          4296.2374305371795,
          4464.27343899179,
          4505.217056340859,
          4512.77383165162,
          4539.946867102961,
          4390.580692886204
         ],
         "yaxis": "y"
        },
        {
         "hoverlabel": {
          "namelength": 0
         },
         "hovertemplate": "<b>%{hovertext}</b><br><br>branch=SWSWBK0003<br>day_of_week=%{x}<br>tamount=%{y}",
         "hovertext": [
          "SWSWBK0003",
          "SWSWBK0003",
          "SWSWBK0003",
          "SWSWBK0003",
          "SWSWBK0003",
          "SWSWBK0003",
          "SWSWBK0003"
         ],
         "legendgroup": "branch=SWSWBK0003",
         "line": {
          "color": "#B6E880",
          "dash": "solid"
         },
         "mode": "lines",
         "name": "branch=SWSWBK0003",
         "showlegend": true,
         "type": "scatter",
         "x": [
          0,
          1,
          2,
          3,
          4,
          5,
          6
         ],
         "xaxis": "x",
         "y": [
          4726.494616547035,
          4907.324394819933,
          4978.300982392862,
          4973.910370717973,
          4946.759504444864,
          5102.163330664532,
          5209.5605518651
         ],
         "yaxis": "y"
        },
        {
         "hoverlabel": {
          "namelength": 0
         },
         "hovertemplate": "<b>%{hovertext}</b><br><br>branch=bk0009<br>day_of_week=%{x}<br>tamount=%{y}",
         "hovertext": [
          "bk0009",
          "bk0009",
          "bk0009",
          "bk0009",
          "bk0009",
          "bk0009",
          "bk0009"
         ],
         "legendgroup": "branch=bk0009",
         "line": {
          "color": "#FF97FF",
          "dash": "solid"
         },
         "mode": "lines",
         "name": "branch=bk0009",
         "showlegend": true,
         "type": "scatter",
         "x": [
          0,
          1,
          2,
          3,
          4,
          5,
          6
         ],
         "xaxis": "x",
         "y": [
          2936.0494689073953,
          2921.009032620396,
          2949.330267892843,
          3000.575653686742,
          3031.256958687372,
          3107.2148171109734,
          3407.81990521327
         ],
         "yaxis": "y"
        },
        {
         "hoverlabel": {
          "namelength": 0
         },
         "hovertemplate": "<b>%{hovertext}</b><br><br>branch=bk0011<br>day_of_week=%{x}<br>tamount=%{y}",
         "hovertext": [
          "bk0011",
          "bk0011",
          "bk0011",
          "bk0011",
          "bk0011",
          "bk0011",
          "bk0011"
         ],
         "legendgroup": "branch=bk0011",
         "line": {
          "color": "#FECB52",
          "dash": "solid"
         },
         "mode": "lines",
         "name": "branch=bk0011",
         "showlegend": true,
         "type": "scatter",
         "x": [
          0,
          1,
          2,
          3,
          4,
          5,
          6
         ],
         "xaxis": "x",
         "y": [
          3572.7744222033643,
          3623.0121645105232,
          3647.0404685324756,
          3597.0782709714895,
          3679.515006115345,
          3802.239386087303,
          3738.793066747757
         ],
         "yaxis": "y"
        },
        {
         "hoverlabel": {
          "namelength": 0
         },
         "hovertemplate": "<b>%{hovertext}</b><br><br>branch=bk0016<br>day_of_week=%{x}<br>tamount=%{y}",
         "hovertext": [
          "bk0016",
          "bk0016",
          "bk0016",
          "bk0016",
          "bk0016",
          "bk0016",
          "bk0016"
         ],
         "legendgroup": "branch=bk0016",
         "line": {
          "color": "#636efa",
          "dash": "solid"
         },
         "mode": "lines",
         "name": "branch=bk0016",
         "showlegend": true,
         "type": "scatter",
         "x": [
          0,
          1,
          2,
          3,
          4,
          5,
          6
         ],
         "xaxis": "x",
         "y": [
          3787.672510257367,
          3908.420862006519,
          3917.7497969130786,
          3865.6885308784044,
          3932.9896907216494,
          4032.1847507331377,
          4066.465183752418
         ],
         "yaxis": "y"
        },
        {
         "hoverlabel": {
          "namelength": 0
         },
         "hovertemplate": "<b>%{hovertext}</b><br><br>branch=bk0023<br>day_of_week=%{x}<br>tamount=%{y}",
         "hovertext": [
          "bk0023",
          "bk0023",
          "bk0023",
          "bk0023",
          "bk0023",
          "bk0023",
          "bk0023"
         ],
         "legendgroup": "branch=bk0023",
         "line": {
          "color": "#EF553B",
          "dash": "solid"
         },
         "mode": "lines",
         "name": "branch=bk0023",
         "showlegend": true,
         "type": "scatter",
         "x": [
          0,
          1,
          2,
          3,
          4,
          5,
          6
         ],
         "xaxis": "x",
         "y": [
          4389.147996213316,
          4931.8600953895075,
          4977.482492997199,
          4647.106017191977,
          4691.4505776636715,
          4578.545727136432,
          5046.012658227848
         ],
         "yaxis": "y"
        },
        {
         "hoverlabel": {
          "namelength": 0
         },
         "hovertemplate": "<b>%{hovertext}</b><br><br>branch=bk0026<br>day_of_week=%{x}<br>tamount=%{y}",
         "hovertext": [
          "bk0026",
          "bk0026",
          "bk0026",
          "bk0026",
          "bk0026",
          "bk0026",
          "bk0026"
         ],
         "legendgroup": "branch=bk0026",
         "line": {
          "color": "#00cc96",
          "dash": "solid"
         },
         "mode": "lines",
         "name": "branch=bk0026",
         "showlegend": true,
         "type": "scatter",
         "x": [
          0,
          1,
          2,
          3,
          4,
          5,
          6
         ],
         "xaxis": "x",
         "y": [
          8235.363790186126,
          8442.041198501873,
          8697.312859884836,
          8176.326129666012,
          8787.525773195875,
          9574.906015037594,
          9965.497076023392
         ],
         "yaxis": "y"
        }
       ],
       "layout": {
        "legend": {
         "tracegroupgap": 0
        },
        "margin": {
         "t": 60
        },
        "template": {
         "data": {
          "bar": [
           {
            "error_x": {
             "color": "#2a3f5f"
            },
            "error_y": {
             "color": "#2a3f5f"
            },
            "marker": {
             "line": {
              "color": "#E5ECF6",
              "width": 0.5
             }
            },
            "type": "bar"
           }
          ],
          "barpolar": [
           {
            "marker": {
             "line": {
              "color": "#E5ECF6",
              "width": 0.5
             }
            },
            "type": "barpolar"
           }
          ],
          "carpet": [
           {
            "aaxis": {
             "endlinecolor": "#2a3f5f",
             "gridcolor": "white",
             "linecolor": "white",
             "minorgridcolor": "white",
             "startlinecolor": "#2a3f5f"
            },
            "baxis": {
             "endlinecolor": "#2a3f5f",
             "gridcolor": "white",
             "linecolor": "white",
             "minorgridcolor": "white",
             "startlinecolor": "#2a3f5f"
            },
            "type": "carpet"
           }
          ],
          "choropleth": [
           {
            "colorbar": {
             "outlinewidth": 0,
             "ticks": ""
            },
            "type": "choropleth"
           }
          ],
          "contour": [
           {
            "colorbar": {
             "outlinewidth": 0,
             "ticks": ""
            },
            "colorscale": [
             [
              0,
              "#0d0887"
             ],
             [
              0.1111111111111111,
              "#46039f"
             ],
             [
              0.2222222222222222,
              "#7201a8"
             ],
             [
              0.3333333333333333,
              "#9c179e"
             ],
             [
              0.4444444444444444,
              "#bd3786"
             ],
             [
              0.5555555555555556,
              "#d8576b"
             ],
             [
              0.6666666666666666,
              "#ed7953"
             ],
             [
              0.7777777777777778,
              "#fb9f3a"
             ],
             [
              0.8888888888888888,
              "#fdca26"
             ],
             [
              1,
              "#f0f921"
             ]
            ],
            "type": "contour"
           }
          ],
          "contourcarpet": [
           {
            "colorbar": {
             "outlinewidth": 0,
             "ticks": ""
            },
            "type": "contourcarpet"
           }
          ],
          "heatmap": [
           {
            "colorbar": {
             "outlinewidth": 0,
             "ticks": ""
            },
            "colorscale": [
             [
              0,
              "#0d0887"
             ],
             [
              0.1111111111111111,
              "#46039f"
             ],
             [
              0.2222222222222222,
              "#7201a8"
             ],
             [
              0.3333333333333333,
              "#9c179e"
             ],
             [
              0.4444444444444444,
              "#bd3786"
             ],
             [
              0.5555555555555556,
              "#d8576b"
             ],
             [
              0.6666666666666666,
              "#ed7953"
             ],
             [
              0.7777777777777778,
              "#fb9f3a"
             ],
             [
              0.8888888888888888,
              "#fdca26"
             ],
             [
              1,
              "#f0f921"
             ]
            ],
            "type": "heatmap"
           }
          ],
          "heatmapgl": [
           {
            "colorbar": {
             "outlinewidth": 0,
             "ticks": ""
            },
            "colorscale": [
             [
              0,
              "#0d0887"
             ],
             [
              0.1111111111111111,
              "#46039f"
             ],
             [
              0.2222222222222222,
              "#7201a8"
             ],
             [
              0.3333333333333333,
              "#9c179e"
             ],
             [
              0.4444444444444444,
              "#bd3786"
             ],
             [
              0.5555555555555556,
              "#d8576b"
             ],
             [
              0.6666666666666666,
              "#ed7953"
             ],
             [
              0.7777777777777778,
              "#fb9f3a"
             ],
             [
              0.8888888888888888,
              "#fdca26"
             ],
             [
              1,
              "#f0f921"
             ]
            ],
            "type": "heatmapgl"
           }
          ],
          "histogram": [
           {
            "marker": {
             "colorbar": {
              "outlinewidth": 0,
              "ticks": ""
             }
            },
            "type": "histogram"
           }
          ],
          "histogram2d": [
           {
            "colorbar": {
             "outlinewidth": 0,
             "ticks": ""
            },
            "colorscale": [
             [
              0,
              "#0d0887"
             ],
             [
              0.1111111111111111,
              "#46039f"
             ],
             [
              0.2222222222222222,
              "#7201a8"
             ],
             [
              0.3333333333333333,
              "#9c179e"
             ],
             [
              0.4444444444444444,
              "#bd3786"
             ],
             [
              0.5555555555555556,
              "#d8576b"
             ],
             [
              0.6666666666666666,
              "#ed7953"
             ],
             [
              0.7777777777777778,
              "#fb9f3a"
             ],
             [
              0.8888888888888888,
              "#fdca26"
             ],
             [
              1,
              "#f0f921"
             ]
            ],
            "type": "histogram2d"
           }
          ],
          "histogram2dcontour": [
           {
            "colorbar": {
             "outlinewidth": 0,
             "ticks": ""
            },
            "colorscale": [
             [
              0,
              "#0d0887"
             ],
             [
              0.1111111111111111,
              "#46039f"
             ],
             [
              0.2222222222222222,
              "#7201a8"
             ],
             [
              0.3333333333333333,
              "#9c179e"
             ],
             [
              0.4444444444444444,
              "#bd3786"
             ],
             [
              0.5555555555555556,
              "#d8576b"
             ],
             [
              0.6666666666666666,
              "#ed7953"
             ],
             [
              0.7777777777777778,
              "#fb9f3a"
             ],
             [
              0.8888888888888888,
              "#fdca26"
             ],
             [
              1,
              "#f0f921"
             ]
            ],
            "type": "histogram2dcontour"
           }
          ],
          "mesh3d": [
           {
            "colorbar": {
             "outlinewidth": 0,
             "ticks": ""
            },
            "type": "mesh3d"
           }
          ],
          "parcoords": [
           {
            "line": {
             "colorbar": {
              "outlinewidth": 0,
              "ticks": ""
             }
            },
            "type": "parcoords"
           }
          ],
          "pie": [
           {
            "automargin": true,
            "type": "pie"
           }
          ],
          "scatter": [
           {
            "marker": {
             "colorbar": {
              "outlinewidth": 0,
              "ticks": ""
             }
            },
            "type": "scatter"
           }
          ],
          "scatter3d": [
           {
            "line": {
             "colorbar": {
              "outlinewidth": 0,
              "ticks": ""
             }
            },
            "marker": {
             "colorbar": {
              "outlinewidth": 0,
              "ticks": ""
             }
            },
            "type": "scatter3d"
           }
          ],
          "scattercarpet": [
           {
            "marker": {
             "colorbar": {
              "outlinewidth": 0,
              "ticks": ""
             }
            },
            "type": "scattercarpet"
           }
          ],
          "scattergeo": [
           {
            "marker": {
             "colorbar": {
              "outlinewidth": 0,
              "ticks": ""
             }
            },
            "type": "scattergeo"
           }
          ],
          "scattergl": [
           {
            "marker": {
             "colorbar": {
              "outlinewidth": 0,
              "ticks": ""
             }
            },
            "type": "scattergl"
           }
          ],
          "scattermapbox": [
           {
            "marker": {
             "colorbar": {
              "outlinewidth": 0,
              "ticks": ""
             }
            },
            "type": "scattermapbox"
           }
          ],
          "scatterpolar": [
           {
            "marker": {
             "colorbar": {
              "outlinewidth": 0,
              "ticks": ""
             }
            },
            "type": "scatterpolar"
           }
          ],
          "scatterpolargl": [
           {
            "marker": {
             "colorbar": {
              "outlinewidth": 0,
              "ticks": ""
             }
            },
            "type": "scatterpolargl"
           }
          ],
          "scatterternary": [
           {
            "marker": {
             "colorbar": {
              "outlinewidth": 0,
              "ticks": ""
             }
            },
            "type": "scatterternary"
           }
          ],
          "surface": [
           {
            "colorbar": {
             "outlinewidth": 0,
             "ticks": ""
            },
            "colorscale": [
             [
              0,
              "#0d0887"
             ],
             [
              0.1111111111111111,
              "#46039f"
             ],
             [
              0.2222222222222222,
              "#7201a8"
             ],
             [
              0.3333333333333333,
              "#9c179e"
             ],
             [
              0.4444444444444444,
              "#bd3786"
             ],
             [
              0.5555555555555556,
              "#d8576b"
             ],
             [
              0.6666666666666666,
              "#ed7953"
             ],
             [
              0.7777777777777778,
              "#fb9f3a"
             ],
             [
              0.8888888888888888,
              "#fdca26"
             ],
             [
              1,
              "#f0f921"
             ]
            ],
            "type": "surface"
           }
          ],
          "table": [
           {
            "cells": {
             "fill": {
              "color": "#EBF0F8"
             },
             "line": {
              "color": "white"
             }
            },
            "header": {
             "fill": {
              "color": "#C8D4E3"
             },
             "line": {
              "color": "white"
             }
            },
            "type": "table"
           }
          ]
         },
         "layout": {
          "annotationdefaults": {
           "arrowcolor": "#2a3f5f",
           "arrowhead": 0,
           "arrowwidth": 1
          },
          "coloraxis": {
           "colorbar": {
            "outlinewidth": 0,
            "ticks": ""
           }
          },
          "colorscale": {
           "diverging": [
            [
             0,
             "#8e0152"
            ],
            [
             0.1,
             "#c51b7d"
            ],
            [
             0.2,
             "#de77ae"
            ],
            [
             0.3,
             "#f1b6da"
            ],
            [
             0.4,
             "#fde0ef"
            ],
            [
             0.5,
             "#f7f7f7"
            ],
            [
             0.6,
             "#e6f5d0"
            ],
            [
             0.7,
             "#b8e186"
            ],
            [
             0.8,
             "#7fbc41"
            ],
            [
             0.9,
             "#4d9221"
            ],
            [
             1,
             "#276419"
            ]
           ],
           "sequential": [
            [
             0,
             "#0d0887"
            ],
            [
             0.1111111111111111,
             "#46039f"
            ],
            [
             0.2222222222222222,
             "#7201a8"
            ],
            [
             0.3333333333333333,
             "#9c179e"
            ],
            [
             0.4444444444444444,
             "#bd3786"
            ],
            [
             0.5555555555555556,
             "#d8576b"
            ],
            [
             0.6666666666666666,
             "#ed7953"
            ],
            [
             0.7777777777777778,
             "#fb9f3a"
            ],
            [
             0.8888888888888888,
             "#fdca26"
            ],
            [
             1,
             "#f0f921"
            ]
           ],
           "sequentialminus": [
            [
             0,
             "#0d0887"
            ],
            [
             0.1111111111111111,
             "#46039f"
            ],
            [
             0.2222222222222222,
             "#7201a8"
            ],
            [
             0.3333333333333333,
             "#9c179e"
            ],
            [
             0.4444444444444444,
             "#bd3786"
            ],
            [
             0.5555555555555556,
             "#d8576b"
            ],
            [
             0.6666666666666666,
             "#ed7953"
            ],
            [
             0.7777777777777778,
             "#fb9f3a"
            ],
            [
             0.8888888888888888,
             "#fdca26"
            ],
            [
             1,
             "#f0f921"
            ]
           ]
          },
          "colorway": [
           "#636efa",
           "#EF553B",
           "#00cc96",
           "#ab63fa",
           "#FFA15A",
           "#19d3f3",
           "#FF6692",
           "#B6E880",
           "#FF97FF",
           "#FECB52"
          ],
          "font": {
           "color": "#2a3f5f"
          },
          "geo": {
           "bgcolor": "white",
           "lakecolor": "white",
           "landcolor": "#E5ECF6",
           "showlakes": true,
           "showland": true,
           "subunitcolor": "white"
          },
          "hoverlabel": {
           "align": "left"
          },
          "hovermode": "closest",
          "mapbox": {
           "style": "light"
          },
          "paper_bgcolor": "white",
          "plot_bgcolor": "#E5ECF6",
          "polar": {
           "angularaxis": {
            "gridcolor": "white",
            "linecolor": "white",
            "ticks": ""
           },
           "bgcolor": "#E5ECF6",
           "radialaxis": {
            "gridcolor": "white",
            "linecolor": "white",
            "ticks": ""
           }
          },
          "scene": {
           "xaxis": {
            "backgroundcolor": "#E5ECF6",
            "gridcolor": "white",
            "gridwidth": 2,
            "linecolor": "white",
            "showbackground": true,
            "ticks": "",
            "zerolinecolor": "white"
           },
           "yaxis": {
            "backgroundcolor": "#E5ECF6",
            "gridcolor": "white",
            "gridwidth": 2,
            "linecolor": "white",
            "showbackground": true,
            "ticks": "",
            "zerolinecolor": "white"
           },
           "zaxis": {
            "backgroundcolor": "#E5ECF6",
            "gridcolor": "white",
            "gridwidth": 2,
            "linecolor": "white",
            "showbackground": true,
            "ticks": "",
            "zerolinecolor": "white"
           }
          },
          "shapedefaults": {
           "line": {
            "color": "#2a3f5f"
           }
          },
          "ternary": {
           "aaxis": {
            "gridcolor": "white",
            "linecolor": "white",
            "ticks": ""
           },
           "baxis": {
            "gridcolor": "white",
            "linecolor": "white",
            "ticks": ""
           },
           "bgcolor": "#E5ECF6",
           "caxis": {
            "gridcolor": "white",
            "linecolor": "white",
            "ticks": ""
           }
          },
          "title": {
           "x": 0.05
          },
          "xaxis": {
           "automargin": true,
           "gridcolor": "white",
           "linecolor": "white",
           "ticks": "",
           "title": {
            "standoff": 15
           },
           "zerolinecolor": "white",
           "zerolinewidth": 2
          },
          "yaxis": {
           "automargin": true,
           "gridcolor": "white",
           "linecolor": "white",
           "ticks": "",
           "title": {
            "standoff": 15
           },
           "zerolinecolor": "white",
           "zerolinewidth": 2
          }
         }
        },
        "xaxis": {
         "anchor": "y",
         "domain": [
          0,
          1
         ],
         "title": {
          "text": "day_of_week"
         }
        },
        "yaxis": {
         "anchor": "x",
         "domain": [
          0,
          1
         ],
         "title": {
          "text": "tamount"
         }
        }
       }
      },
      "text/html": [
       "<div>\n",
       "        \n",
       "        \n",
       "            <div id=\"ce90ae5d-6418-430d-be4b-eda2a17a642a\" class=\"plotly-graph-div\" style=\"height:525px; width:100%;\"></div>\n",
       "            <script type=\"text/javascript\">\n",
       "                require([\"plotly\"], function(Plotly) {\n",
       "                    window.PLOTLYENV=window.PLOTLYENV || {};\n",
       "                    \n",
       "                if (document.getElementById(\"ce90ae5d-6418-430d-be4b-eda2a17a642a\")) {\n",
       "                    Plotly.newPlot(\n",
       "                        'ce90ae5d-6418-430d-be4b-eda2a17a642a',\n",
       "                        [{\"hoverlabel\": {\"namelength\": 0}, \"hovertemplate\": \"<b>%{hovertext}</b><br><br>branch=BK0008<br>day_of_week=%{x}<br>tamount=%{y}\", \"hovertext\": [\"BK0008\", \"BK0008\", \"BK0008\", \"BK0008\", \"BK0008\", \"BK0008\", \"BK0008\"], \"legendgroup\": \"branch=BK0008\", \"line\": {\"color\": \"#636efa\", \"dash\": \"solid\"}, \"mode\": \"lines\", \"name\": \"branch=BK0008\", \"showlegend\": true, \"type\": \"scatter\", \"x\": [0, 1, 2, 3, 4, 5, 6], \"xaxis\": \"x\", \"y\": [4469.767441860465, 5120.27027027027, 5997.619047619048, 4859.701492537313, 4950.0, 7531.585365853659, 5112.467532467533], \"yaxis\": \"y\"}, {\"hoverlabel\": {\"namelength\": 0}, \"hovertemplate\": \"<b>%{hovertext}</b><br><br>branch=BK0010<br>day_of_week=%{x}<br>tamount=%{y}\", \"hovertext\": [\"BK0010\", \"BK0010\", \"BK0010\", \"BK0010\", \"BK0010\", \"BK0010\"], \"legendgroup\": \"branch=BK0010\", \"line\": {\"color\": \"#EF553B\", \"dash\": \"solid\"}, \"mode\": \"lines\", \"name\": \"branch=BK0010\", \"showlegend\": true, \"type\": \"scatter\", \"x\": [0, 1, 2, 3, 4, 5], \"xaxis\": \"x\", \"y\": [3485.6353591160223, 3529.0753589338465, 3533.8229960101557, 3553.1480692788186, 3582.626884248375, 3703.6500780301717], \"yaxis\": \"y\"}, {\"hoverlabel\": {\"namelength\": 0}, \"hovertemplate\": \"<b>%{hovertext}</b><br><br>branch=BK0014<br>day_of_week=%{x}<br>tamount=%{y}\", \"hovertext\": [\"BK0014\", \"BK0014\", \"BK0014\", \"BK0014\", \"BK0014\", \"BK0014\"], \"legendgroup\": \"branch=BK0014\", \"line\": {\"color\": \"#00cc96\", \"dash\": \"solid\"}, \"mode\": \"lines\", \"name\": \"branch=BK0014\", \"showlegend\": true, \"type\": \"scatter\", \"x\": [0, 1, 2, 3, 4, 5], \"xaxis\": \"x\", \"y\": [3466.069567067333, 3624.434509065689, 3569.411672746222, 3526.8487266032525, 3615.9488704518194, 3730.890452413376], \"yaxis\": \"y\"}, {\"hoverlabel\": {\"namelength\": 0}, \"hovertemplate\": \"<b>%{hovertext}</b><br><br>branch=BK0016<br>day_of_week=%{x}<br>tamount=%{y}\", \"hovertext\": [\"BK0016\", \"BK0016\", \"BK0016\", \"BK0016\", \"BK0016\", \"BK0016\"], \"legendgroup\": \"branch=BK0016\", \"line\": {\"color\": \"#ab63fa\", \"dash\": \"solid\"}, \"mode\": \"lines\", \"name\": \"branch=BK0016\", \"showlegend\": true, \"type\": \"scatter\", \"x\": [0, 1, 2, 3, 4, 5], \"xaxis\": \"x\", \"y\": [3672.2880061115357, 3632.933819697759, 3693.2613551749814, 3795.506934948232, 3724.790517065195, 4032.848588537211], \"yaxis\": \"y\"}, {\"hoverlabel\": {\"namelength\": 0}, \"hovertemplate\": \"<b>%{hovertext}</b><br><br>branch=BK0017<br>day_of_week=%{x}<br>tamount=%{y}\", \"hovertext\": [\"BK0017\", \"BK0017\", \"BK0017\", \"BK0017\", \"BK0017\", \"BK0017\"], \"legendgroup\": \"branch=BK0017\", \"line\": {\"color\": \"#FFA15A\", \"dash\": \"solid\"}, \"mode\": \"lines\", \"name\": \"branch=BK0017\", \"showlegend\": true, \"type\": \"scatter\", \"x\": [0, 1, 2, 3, 4, 5], \"xaxis\": \"x\", \"y\": [3954.1455696202534, 3882.8220672931193, 3979.987105093488, 4062.0155378050113, 4074.4287093659477, 4378.905154639176], \"yaxis\": \"y\"}, {\"hoverlabel\": {\"namelength\": 0}, \"hovertemplate\": \"<b>%{hovertext}</b><br><br>branch=BK0018<br>day_of_week=%{x}<br>tamount=%{y}\", \"hovertext\": [\"BK0018\", \"BK0018\", \"BK0018\", \"BK0018\", \"BK0018\", \"BK0018\", \"BK0018\"], \"legendgroup\": \"branch=BK0018\", \"line\": {\"color\": \"#19d3f3\", \"dash\": \"solid\"}, \"mode\": \"lines\", \"name\": \"branch=BK0018\", \"showlegend\": true, \"type\": \"scatter\", \"x\": [0, 1, 2, 3, 4, 5, 6], \"xaxis\": \"x\", \"y\": [3547.836202678055, 3607.976613447268, 3615.5207212055975, 3586.159868333259, 3680.0412003172646, 3786.3229231086375, 3734.088545052659], \"yaxis\": \"y\"}, {\"hoverlabel\": {\"namelength\": 0}, \"hovertemplate\": \"<b>%{hovertext}</b><br><br>branch=BK0019<br>day_of_week=%{x}<br>tamount=%{y}\", \"hovertext\": [\"BK0019\", \"BK0019\", \"BK0019\", \"BK0019\", \"BK0019\", \"BK0019\", \"BK0019\"], \"legendgroup\": \"branch=BK0019\", \"line\": {\"color\": \"#FF6692\", \"dash\": \"solid\"}, \"mode\": \"lines\", \"name\": \"branch=BK0019\", \"showlegend\": true, \"type\": \"scatter\", \"x\": [0, 1, 2, 3, 4, 5, 6], \"xaxis\": \"x\", \"y\": [3770.912908709129, 3823.436851700509, 3808.666217689693, 3861.680224675576, 3884.202312503949, 4070.33859968942, 3999.6072195277093], \"yaxis\": \"y\"}, {\"hoverlabel\": {\"namelength\": 0}, \"hovertemplate\": \"<b>%{hovertext}</b><br><br>branch=BK0020<br>day_of_week=%{x}<br>tamount=%{y}\", \"hovertext\": [\"BK0020\", \"BK0020\", \"BK0020\", \"BK0020\", \"BK0020\", \"BK0020\", \"BK0020\"], \"legendgroup\": \"branch=BK0020\", \"line\": {\"color\": \"#B6E880\", \"dash\": \"solid\"}, \"mode\": \"lines\", \"name\": \"branch=BK0020\", \"showlegend\": true, \"type\": \"scatter\", \"x\": [0, 1, 2, 3, 4, 5, 6], \"xaxis\": \"x\", \"y\": [5174.029924205139, 5261.998691221838, 5358.935525131461, 5535.179601096512, 5408.986196389825, 5707.504393673111, 5606.240416210296], \"yaxis\": \"y\"}, {\"hoverlabel\": {\"namelength\": 0}, \"hovertemplate\": \"<b>%{hovertext}</b><br><br>branch=BK0021<br>day_of_week=%{x}<br>tamount=%{y}\", \"hovertext\": [\"BK0021\", \"BK0021\", \"BK0021\", \"BK0021\", \"BK0021\", \"BK0021\", \"BK0021\"], \"legendgroup\": \"branch=BK0021\", \"line\": {\"color\": \"#FF97FF\", \"dash\": \"solid\"}, \"mode\": \"lines\", \"name\": \"branch=BK0021\", \"showlegend\": true, \"type\": \"scatter\", \"x\": [0, 1, 2, 3, 4, 5, 6], \"xaxis\": \"x\", \"y\": [4618.119891008175, 4554.368108566582, 4691.057091882248, 4677.439921530162, 4743.551797040169, 6211.188811188811, 5082.991803278688], \"yaxis\": \"y\"}, {\"hoverlabel\": {\"namelength\": 0}, \"hovertemplate\": \"<b>%{hovertext}</b><br><br>branch=BK0022<br>day_of_week=%{x}<br>tamount=%{y}\", \"hovertext\": [\"BK0022\", \"BK0022\", \"BK0022\", \"BK0022\", \"BK0022\", \"BK0022\"], \"legendgroup\": \"branch=BK0022\", \"line\": {\"color\": \"#FECB52\", \"dash\": \"solid\"}, \"mode\": \"lines\", \"name\": \"branch=BK0022\", \"showlegend\": true, \"type\": \"scatter\", \"x\": [0, 1, 2, 3, 4, 5], \"xaxis\": \"x\", \"y\": [4261.345707656613, 4200.785280394401, 4266.535091601027, 4381.06790992259, 4580.364492500872, 4321.4227994227995], \"yaxis\": \"y\"}, {\"hoverlabel\": {\"namelength\": 0}, \"hovertemplate\": \"<b>%{hovertext}</b><br><br>branch=BK0024<br>day_of_week=%{x}<br>tamount=%{y}\", \"hovertext\": [\"BK0024\", \"BK0024\", \"BK0024\", \"BK0024\", \"BK0024\", \"BK0024\"], \"legendgroup\": \"branch=BK0024\", \"line\": {\"color\": \"#636efa\", \"dash\": \"solid\"}, \"mode\": \"lines\", \"name\": \"branch=BK0024\", \"showlegend\": true, \"type\": \"scatter\", \"x\": [0, 1, 2, 3, 4, 5], \"xaxis\": \"x\", \"y\": [4239.946444510562, 4469.181683899556, 4394.612068965517, 4427.629436665581, 4468.270723377833, 5147.01], \"yaxis\": \"y\"}, {\"hoverlabel\": {\"namelength\": 0}, \"hovertemplate\": \"<b>%{hovertext}</b><br><br>branch=BK0025<br>day_of_week=%{x}<br>tamount=%{y}\", \"hovertext\": [\"BK0025\", \"BK0025\", \"BK0025\", \"BK0025\", \"BK0025\", \"BK0025\", \"BK0025\"], \"legendgroup\": \"branch=BK0025\", \"line\": {\"color\": \"#EF553B\", \"dash\": \"solid\"}, \"mode\": \"lines\", \"name\": \"branch=BK0025\", \"showlegend\": true, \"type\": \"scatter\", \"x\": [0, 1, 2, 3, 4, 5, 6], \"xaxis\": \"x\", \"y\": [3940.9189189189187, 3906.105308964317, 3955.581622678397, 3855.951169888098, 4145.98166907863, 3864.2705735660847, 3947.5862068965516], \"yaxis\": \"y\"}, {\"hoverlabel\": {\"namelength\": 0}, \"hovertemplate\": \"<b>%{hovertext}</b><br><br>branch=BK0027<br>day_of_week=%{x}<br>tamount=%{y}\", \"hovertext\": [\"BK0027\", \"BK0027\", \"BK0027\", \"BK0027\", \"BK0027\", \"BK0027\", \"BK0027\"], \"legendgroup\": \"branch=BK0027\", \"line\": {\"color\": \"#00cc96\", \"dash\": \"solid\"}, \"mode\": \"lines\", \"name\": \"branch=BK0027\", \"showlegend\": true, \"type\": \"scatter\", \"x\": [0, 1, 2, 3, 4, 5, 6], \"xaxis\": \"x\", \"y\": [3899.453047775947, 4098.907640380485, 3997.22483537159, 4145.802391441158, 4181.66814028883, 4258.650217706821, 4266.466049382716], \"yaxis\": \"y\"}, {\"hoverlabel\": {\"namelength\": 0}, \"hovertemplate\": \"<b>%{hovertext}</b><br><br>branch=BK0028<br>day_of_week=%{x}<br>tamount=%{y}\", \"hovertext\": [\"BK0028\", \"BK0028\", \"BK0028\", \"BK0028\", \"BK0028\", \"BK0028\", \"BK0028\"], \"legendgroup\": \"branch=BK0028\", \"line\": {\"color\": \"#ab63fa\", \"dash\": \"solid\"}, \"mode\": \"lines\", \"name\": \"branch=BK0028\", \"showlegend\": true, \"type\": \"scatter\", \"x\": [0, 1, 2, 3, 4, 5, 6], \"xaxis\": \"x\", \"y\": [4379.266055045871, 4509.984496124031, 4552.595204513399, 4633.4, 4388.858218318695, 4610.515574650913, 4693.07570977918], \"yaxis\": \"y\"}, {\"hoverlabel\": {\"namelength\": 0}, \"hovertemplate\": \"<b>%{hovertext}</b><br><br>branch=BK0029<br>day_of_week=%{x}<br>tamount=%{y}\", \"hovertext\": [\"BK0029\", \"BK0029\", \"BK0029\", \"BK0029\", \"BK0029\", \"BK0029\"], \"legendgroup\": \"branch=BK0029\", \"line\": {\"color\": \"#FFA15A\", \"dash\": \"solid\"}, \"mode\": \"lines\", \"name\": \"branch=BK0029\", \"showlegend\": true, \"type\": \"scatter\", \"x\": [0, 1, 2, 3, 4, 5], \"xaxis\": \"x\", \"y\": [4855.504, 3723.059210526316, 3510.5479452054797, 3915.8285714285716, 3785.022970903522, 3569.6606786427146], \"yaxis\": \"y\"}, {\"hoverlabel\": {\"namelength\": 0}, \"hovertemplate\": \"<b>%{hovertext}</b><br><br>branch=BK1555<br>day_of_week=%{x}<br>tamount=%{y}\", \"hovertext\": [\"BK1555\", \"BK1555\", \"BK1555\", \"BK1555\", \"BK1555\", \"BK1555\"], \"legendgroup\": \"branch=BK1555\", \"line\": {\"color\": \"#19d3f3\", \"dash\": \"solid\"}, \"mode\": \"lines\", \"name\": \"branch=BK1555\", \"showlegend\": true, \"type\": \"scatter\", \"x\": [0, 1, 2, 3, 4, 5], \"xaxis\": \"x\", \"y\": [3472.846140681157, 3576.2713402061854, 3705.7475286501617, 3473.283308611814, 3540.7296137339054, 3603.146453089245], \"yaxis\": \"y\"}, {\"hoverlabel\": {\"namelength\": 0}, \"hovertemplate\": \"<b>%{hovertext}</b><br><br>branch=SWBK0006<br>day_of_week=%{x}<br>tamount=%{y}\", \"hovertext\": [\"SWBK0006\", \"SWBK0006\", \"SWBK0006\", \"SWBK0006\", \"SWBK0006\", \"SWBK0006\"], \"legendgroup\": \"branch=SWBK0006\", \"line\": {\"color\": \"#FF6692\", \"dash\": \"solid\"}, \"mode\": \"lines\", \"name\": \"branch=SWBK0006\", \"showlegend\": true, \"type\": \"scatter\", \"x\": [0, 1, 2, 3, 4, 5], \"xaxis\": \"x\", \"y\": [4296.2374305371795, 4464.27343899179, 4505.217056340859, 4512.77383165162, 4539.946867102961, 4390.580692886204], \"yaxis\": \"y\"}, {\"hoverlabel\": {\"namelength\": 0}, \"hovertemplate\": \"<b>%{hovertext}</b><br><br>branch=SWSWBK0003<br>day_of_week=%{x}<br>tamount=%{y}\", \"hovertext\": [\"SWSWBK0003\", \"SWSWBK0003\", \"SWSWBK0003\", \"SWSWBK0003\", \"SWSWBK0003\", \"SWSWBK0003\", \"SWSWBK0003\"], \"legendgroup\": \"branch=SWSWBK0003\", \"line\": {\"color\": \"#B6E880\", \"dash\": \"solid\"}, \"mode\": \"lines\", \"name\": \"branch=SWSWBK0003\", \"showlegend\": true, \"type\": \"scatter\", \"x\": [0, 1, 2, 3, 4, 5, 6], \"xaxis\": \"x\", \"y\": [4726.494616547035, 4907.324394819933, 4978.300982392862, 4973.910370717973, 4946.759504444864, 5102.163330664532, 5209.5605518651], \"yaxis\": \"y\"}, {\"hoverlabel\": {\"namelength\": 0}, \"hovertemplate\": \"<b>%{hovertext}</b><br><br>branch=bk0009<br>day_of_week=%{x}<br>tamount=%{y}\", \"hovertext\": [\"bk0009\", \"bk0009\", \"bk0009\", \"bk0009\", \"bk0009\", \"bk0009\", \"bk0009\"], \"legendgroup\": \"branch=bk0009\", \"line\": {\"color\": \"#FF97FF\", \"dash\": \"solid\"}, \"mode\": \"lines\", \"name\": \"branch=bk0009\", \"showlegend\": true, \"type\": \"scatter\", \"x\": [0, 1, 2, 3, 4, 5, 6], \"xaxis\": \"x\", \"y\": [2936.0494689073953, 2921.009032620396, 2949.330267892843, 3000.575653686742, 3031.256958687372, 3107.2148171109734, 3407.81990521327], \"yaxis\": \"y\"}, {\"hoverlabel\": {\"namelength\": 0}, \"hovertemplate\": \"<b>%{hovertext}</b><br><br>branch=bk0011<br>day_of_week=%{x}<br>tamount=%{y}\", \"hovertext\": [\"bk0011\", \"bk0011\", \"bk0011\", \"bk0011\", \"bk0011\", \"bk0011\", \"bk0011\"], \"legendgroup\": \"branch=bk0011\", \"line\": {\"color\": \"#FECB52\", \"dash\": \"solid\"}, \"mode\": \"lines\", \"name\": \"branch=bk0011\", \"showlegend\": true, \"type\": \"scatter\", \"x\": [0, 1, 2, 3, 4, 5, 6], \"xaxis\": \"x\", \"y\": [3572.7744222033643, 3623.0121645105232, 3647.0404685324756, 3597.0782709714895, 3679.515006115345, 3802.239386087303, 3738.793066747757], \"yaxis\": \"y\"}, {\"hoverlabel\": {\"namelength\": 0}, \"hovertemplate\": \"<b>%{hovertext}</b><br><br>branch=bk0016<br>day_of_week=%{x}<br>tamount=%{y}\", \"hovertext\": [\"bk0016\", \"bk0016\", \"bk0016\", \"bk0016\", \"bk0016\", \"bk0016\", \"bk0016\"], \"legendgroup\": \"branch=bk0016\", \"line\": {\"color\": \"#636efa\", \"dash\": \"solid\"}, \"mode\": \"lines\", \"name\": \"branch=bk0016\", \"showlegend\": true, \"type\": \"scatter\", \"x\": [0, 1, 2, 3, 4, 5, 6], \"xaxis\": \"x\", \"y\": [3787.672510257367, 3908.420862006519, 3917.7497969130786, 3865.6885308784044, 3932.9896907216494, 4032.1847507331377, 4066.465183752418], \"yaxis\": \"y\"}, {\"hoverlabel\": {\"namelength\": 0}, \"hovertemplate\": \"<b>%{hovertext}</b><br><br>branch=bk0023<br>day_of_week=%{x}<br>tamount=%{y}\", \"hovertext\": [\"bk0023\", \"bk0023\", \"bk0023\", \"bk0023\", \"bk0023\", \"bk0023\", \"bk0023\"], \"legendgroup\": \"branch=bk0023\", \"line\": {\"color\": \"#EF553B\", \"dash\": \"solid\"}, \"mode\": \"lines\", \"name\": \"branch=bk0023\", \"showlegend\": true, \"type\": \"scatter\", \"x\": [0, 1, 2, 3, 4, 5, 6], \"xaxis\": \"x\", \"y\": [4389.147996213316, 4931.8600953895075, 4977.482492997199, 4647.106017191977, 4691.4505776636715, 4578.545727136432, 5046.012658227848], \"yaxis\": \"y\"}, {\"hoverlabel\": {\"namelength\": 0}, \"hovertemplate\": \"<b>%{hovertext}</b><br><br>branch=bk0026<br>day_of_week=%{x}<br>tamount=%{y}\", \"hovertext\": [\"bk0026\", \"bk0026\", \"bk0026\", \"bk0026\", \"bk0026\", \"bk0026\", \"bk0026\"], \"legendgroup\": \"branch=bk0026\", \"line\": {\"color\": \"#00cc96\", \"dash\": \"solid\"}, \"mode\": \"lines\", \"name\": \"branch=bk0026\", \"showlegend\": true, \"type\": \"scatter\", \"x\": [0, 1, 2, 3, 4, 5, 6], \"xaxis\": \"x\", \"y\": [8235.363790186126, 8442.041198501873, 8697.312859884836, 8176.326129666012, 8787.525773195875, 9574.906015037594, 9965.497076023392], \"yaxis\": \"y\"}],\n",
       "                        {\"legend\": {\"tracegroupgap\": 0}, \"margin\": {\"t\": 60}, \"template\": {\"data\": {\"bar\": [{\"error_x\": {\"color\": \"#2a3f5f\"}, \"error_y\": {\"color\": \"#2a3f5f\"}, \"marker\": {\"line\": {\"color\": \"#E5ECF6\", \"width\": 0.5}}, \"type\": \"bar\"}], \"barpolar\": [{\"marker\": {\"line\": {\"color\": \"#E5ECF6\", \"width\": 0.5}}, \"type\": \"barpolar\"}], \"carpet\": [{\"aaxis\": {\"endlinecolor\": \"#2a3f5f\", \"gridcolor\": \"white\", \"linecolor\": \"white\", \"minorgridcolor\": \"white\", \"startlinecolor\": \"#2a3f5f\"}, \"baxis\": {\"endlinecolor\": \"#2a3f5f\", \"gridcolor\": \"white\", \"linecolor\": \"white\", \"minorgridcolor\": \"white\", \"startlinecolor\": \"#2a3f5f\"}, \"type\": \"carpet\"}], \"choropleth\": [{\"colorbar\": {\"outlinewidth\": 0, \"ticks\": \"\"}, \"type\": \"choropleth\"}], \"contour\": [{\"colorbar\": {\"outlinewidth\": 0, \"ticks\": \"\"}, \"colorscale\": [[0.0, \"#0d0887\"], [0.1111111111111111, \"#46039f\"], [0.2222222222222222, \"#7201a8\"], [0.3333333333333333, \"#9c179e\"], [0.4444444444444444, \"#bd3786\"], [0.5555555555555556, \"#d8576b\"], [0.6666666666666666, \"#ed7953\"], [0.7777777777777778, \"#fb9f3a\"], [0.8888888888888888, \"#fdca26\"], [1.0, \"#f0f921\"]], \"type\": \"contour\"}], \"contourcarpet\": [{\"colorbar\": {\"outlinewidth\": 0, \"ticks\": \"\"}, \"type\": \"contourcarpet\"}], \"heatmap\": [{\"colorbar\": {\"outlinewidth\": 0, \"ticks\": \"\"}, \"colorscale\": [[0.0, \"#0d0887\"], [0.1111111111111111, \"#46039f\"], [0.2222222222222222, \"#7201a8\"], [0.3333333333333333, \"#9c179e\"], [0.4444444444444444, \"#bd3786\"], [0.5555555555555556, \"#d8576b\"], [0.6666666666666666, \"#ed7953\"], [0.7777777777777778, \"#fb9f3a\"], [0.8888888888888888, \"#fdca26\"], [1.0, \"#f0f921\"]], \"type\": \"heatmap\"}], \"heatmapgl\": [{\"colorbar\": {\"outlinewidth\": 0, \"ticks\": \"\"}, \"colorscale\": [[0.0, \"#0d0887\"], [0.1111111111111111, \"#46039f\"], [0.2222222222222222, \"#7201a8\"], [0.3333333333333333, \"#9c179e\"], [0.4444444444444444, \"#bd3786\"], [0.5555555555555556, \"#d8576b\"], [0.6666666666666666, \"#ed7953\"], [0.7777777777777778, \"#fb9f3a\"], [0.8888888888888888, \"#fdca26\"], [1.0, \"#f0f921\"]], \"type\": \"heatmapgl\"}], \"histogram\": [{\"marker\": {\"colorbar\": {\"outlinewidth\": 0, \"ticks\": \"\"}}, \"type\": \"histogram\"}], \"histogram2d\": [{\"colorbar\": {\"outlinewidth\": 0, \"ticks\": \"\"}, \"colorscale\": [[0.0, \"#0d0887\"], [0.1111111111111111, \"#46039f\"], [0.2222222222222222, \"#7201a8\"], [0.3333333333333333, \"#9c179e\"], [0.4444444444444444, \"#bd3786\"], [0.5555555555555556, \"#d8576b\"], [0.6666666666666666, \"#ed7953\"], [0.7777777777777778, \"#fb9f3a\"], [0.8888888888888888, \"#fdca26\"], [1.0, \"#f0f921\"]], \"type\": \"histogram2d\"}], \"histogram2dcontour\": [{\"colorbar\": {\"outlinewidth\": 0, \"ticks\": \"\"}, \"colorscale\": [[0.0, \"#0d0887\"], [0.1111111111111111, \"#46039f\"], [0.2222222222222222, \"#7201a8\"], [0.3333333333333333, \"#9c179e\"], [0.4444444444444444, \"#bd3786\"], [0.5555555555555556, \"#d8576b\"], [0.6666666666666666, \"#ed7953\"], [0.7777777777777778, \"#fb9f3a\"], [0.8888888888888888, \"#fdca26\"], [1.0, \"#f0f921\"]], \"type\": \"histogram2dcontour\"}], \"mesh3d\": [{\"colorbar\": {\"outlinewidth\": 0, \"ticks\": \"\"}, \"type\": \"mesh3d\"}], \"parcoords\": [{\"line\": {\"colorbar\": {\"outlinewidth\": 0, \"ticks\": \"\"}}, \"type\": \"parcoords\"}], \"pie\": [{\"automargin\": true, \"type\": \"pie\"}], \"scatter\": [{\"marker\": {\"colorbar\": {\"outlinewidth\": 0, \"ticks\": \"\"}}, \"type\": \"scatter\"}], \"scatter3d\": [{\"line\": {\"colorbar\": {\"outlinewidth\": 0, \"ticks\": \"\"}}, \"marker\": {\"colorbar\": {\"outlinewidth\": 0, \"ticks\": \"\"}}, \"type\": \"scatter3d\"}], \"scattercarpet\": [{\"marker\": {\"colorbar\": {\"outlinewidth\": 0, \"ticks\": \"\"}}, \"type\": \"scattercarpet\"}], \"scattergeo\": [{\"marker\": {\"colorbar\": {\"outlinewidth\": 0, \"ticks\": \"\"}}, \"type\": \"scattergeo\"}], \"scattergl\": [{\"marker\": {\"colorbar\": {\"outlinewidth\": 0, \"ticks\": \"\"}}, \"type\": \"scattergl\"}], \"scattermapbox\": [{\"marker\": {\"colorbar\": {\"outlinewidth\": 0, \"ticks\": \"\"}}, \"type\": \"scattermapbox\"}], \"scatterpolar\": [{\"marker\": {\"colorbar\": {\"outlinewidth\": 0, \"ticks\": \"\"}}, \"type\": \"scatterpolar\"}], \"scatterpolargl\": [{\"marker\": {\"colorbar\": {\"outlinewidth\": 0, \"ticks\": \"\"}}, \"type\": \"scatterpolargl\"}], \"scatterternary\": [{\"marker\": {\"colorbar\": {\"outlinewidth\": 0, \"ticks\": \"\"}}, \"type\": \"scatterternary\"}], \"surface\": [{\"colorbar\": {\"outlinewidth\": 0, \"ticks\": \"\"}, \"colorscale\": [[0.0, \"#0d0887\"], [0.1111111111111111, \"#46039f\"], [0.2222222222222222, \"#7201a8\"], [0.3333333333333333, \"#9c179e\"], [0.4444444444444444, \"#bd3786\"], [0.5555555555555556, \"#d8576b\"], [0.6666666666666666, \"#ed7953\"], [0.7777777777777778, \"#fb9f3a\"], [0.8888888888888888, \"#fdca26\"], [1.0, \"#f0f921\"]], \"type\": \"surface\"}], \"table\": [{\"cells\": {\"fill\": {\"color\": \"#EBF0F8\"}, \"line\": {\"color\": \"white\"}}, \"header\": {\"fill\": {\"color\": \"#C8D4E3\"}, \"line\": {\"color\": \"white\"}}, \"type\": \"table\"}]}, \"layout\": {\"annotationdefaults\": {\"arrowcolor\": \"#2a3f5f\", \"arrowhead\": 0, \"arrowwidth\": 1}, \"coloraxis\": {\"colorbar\": {\"outlinewidth\": 0, \"ticks\": \"\"}}, \"colorscale\": {\"diverging\": [[0, \"#8e0152\"], [0.1, \"#c51b7d\"], [0.2, \"#de77ae\"], [0.3, \"#f1b6da\"], [0.4, \"#fde0ef\"], [0.5, \"#f7f7f7\"], [0.6, \"#e6f5d0\"], [0.7, \"#b8e186\"], [0.8, \"#7fbc41\"], [0.9, \"#4d9221\"], [1, \"#276419\"]], \"sequential\": [[0.0, \"#0d0887\"], [0.1111111111111111, \"#46039f\"], [0.2222222222222222, \"#7201a8\"], [0.3333333333333333, \"#9c179e\"], [0.4444444444444444, \"#bd3786\"], [0.5555555555555556, \"#d8576b\"], [0.6666666666666666, \"#ed7953\"], [0.7777777777777778, \"#fb9f3a\"], [0.8888888888888888, \"#fdca26\"], [1.0, \"#f0f921\"]], \"sequentialminus\": [[0.0, \"#0d0887\"], [0.1111111111111111, \"#46039f\"], [0.2222222222222222, \"#7201a8\"], [0.3333333333333333, \"#9c179e\"], [0.4444444444444444, \"#bd3786\"], [0.5555555555555556, \"#d8576b\"], [0.6666666666666666, \"#ed7953\"], [0.7777777777777778, \"#fb9f3a\"], [0.8888888888888888, \"#fdca26\"], [1.0, \"#f0f921\"]]}, \"colorway\": [\"#636efa\", \"#EF553B\", \"#00cc96\", \"#ab63fa\", \"#FFA15A\", \"#19d3f3\", \"#FF6692\", \"#B6E880\", \"#FF97FF\", \"#FECB52\"], \"font\": {\"color\": \"#2a3f5f\"}, \"geo\": {\"bgcolor\": \"white\", \"lakecolor\": \"white\", \"landcolor\": \"#E5ECF6\", \"showlakes\": true, \"showland\": true, \"subunitcolor\": \"white\"}, \"hoverlabel\": {\"align\": \"left\"}, \"hovermode\": \"closest\", \"mapbox\": {\"style\": \"light\"}, \"paper_bgcolor\": \"white\", \"plot_bgcolor\": \"#E5ECF6\", \"polar\": {\"angularaxis\": {\"gridcolor\": \"white\", \"linecolor\": \"white\", \"ticks\": \"\"}, \"bgcolor\": \"#E5ECF6\", \"radialaxis\": {\"gridcolor\": \"white\", \"linecolor\": \"white\", \"ticks\": \"\"}}, \"scene\": {\"xaxis\": {\"backgroundcolor\": \"#E5ECF6\", \"gridcolor\": \"white\", \"gridwidth\": 2, \"linecolor\": \"white\", \"showbackground\": true, \"ticks\": \"\", \"zerolinecolor\": \"white\"}, \"yaxis\": {\"backgroundcolor\": \"#E5ECF6\", \"gridcolor\": \"white\", \"gridwidth\": 2, \"linecolor\": \"white\", \"showbackground\": true, \"ticks\": \"\", \"zerolinecolor\": \"white\"}, \"zaxis\": {\"backgroundcolor\": \"#E5ECF6\", \"gridcolor\": \"white\", \"gridwidth\": 2, \"linecolor\": \"white\", \"showbackground\": true, \"ticks\": \"\", \"zerolinecolor\": \"white\"}}, \"shapedefaults\": {\"line\": {\"color\": \"#2a3f5f\"}}, \"ternary\": {\"aaxis\": {\"gridcolor\": \"white\", \"linecolor\": \"white\", \"ticks\": \"\"}, \"baxis\": {\"gridcolor\": \"white\", \"linecolor\": \"white\", \"ticks\": \"\"}, \"bgcolor\": \"#E5ECF6\", \"caxis\": {\"gridcolor\": \"white\", \"linecolor\": \"white\", \"ticks\": \"\"}}, \"title\": {\"x\": 0.05}, \"xaxis\": {\"automargin\": true, \"gridcolor\": \"white\", \"linecolor\": \"white\", \"ticks\": \"\", \"title\": {\"standoff\": 15}, \"zerolinecolor\": \"white\", \"zerolinewidth\": 2}, \"yaxis\": {\"automargin\": true, \"gridcolor\": \"white\", \"linecolor\": \"white\", \"ticks\": \"\", \"title\": {\"standoff\": 15}, \"zerolinecolor\": \"white\", \"zerolinewidth\": 2}}}, \"xaxis\": {\"anchor\": \"y\", \"domain\": [0.0, 1.0], \"title\": {\"text\": \"day_of_week\"}}, \"yaxis\": {\"anchor\": \"x\", \"domain\": [0.0, 1.0], \"title\": {\"text\": \"tamount\"}}},\n",
       "                        {\"responsive\": true}\n",
       "                    ).then(function(){\n",
       "                            \n",
       "var gd = document.getElementById('ce90ae5d-6418-430d-be4b-eda2a17a642a');\n",
       "var x = new MutationObserver(function (mutations, observer) {{\n",
       "        var display = window.getComputedStyle(gd).display;\n",
       "        if (!display || display === 'none') {{\n",
       "            console.log([gd, 'removed!']);\n",
       "            Plotly.purge(gd);\n",
       "            observer.disconnect();\n",
       "        }}\n",
       "}});\n",
       "\n",
       "// Listen for the removal of the full notebook cells\n",
       "var notebookContainer = gd.closest('#notebook-container');\n",
       "if (notebookContainer) {{\n",
       "    x.observe(notebookContainer, {childList: true});\n",
       "}}\n",
       "\n",
       "// Listen for the clearing of the current output cell\n",
       "var outputEl = gd.closest('.output');\n",
       "if (outputEl) {{\n",
       "    x.observe(outputEl, {childList: true});\n",
       "}}\n",
       "\n",
       "                        })\n",
       "                };\n",
       "                });\n",
       "            </script>\n",
       "        </div>"
      ]
     },
     "metadata": {},
     "output_type": "display_data"
    }
   ],
   "source": [
    "test_mean = test.groupby([\"branch\",\"day_of_week\"]).sum()\n",
    "test_mean.reset_index(inplace=True)\n",
    "#test_mean\n",
    "fig = px.line(test_mean, x=\"day_of_week\", y=\"tamount\", color=\"branch\", hover_name=\"branch\")#, line_shape=\"spline\", render_mode=\"svg\")\n",
    "fig.show()\n"
   ]
  },
  {
   "cell_type": "code",
   "execution_count": 522,
   "metadata": {},
   "outputs": [],
   "source": [
    "def weekly_average_series(df, STORE_CODE):\n",
    "    \"\"\"\n",
    "    Calculates the average for each day of the week for one store. \n",
    "    \n",
    "    Parameters\n",
    "    ==========\n",
    "    df: Pandas DataFrame\n",
    "        Dataframe output from convert_dates() \n",
    "    STORE_CODE: str\n",
    "        Store ID number\n",
    "    \n",
    "    Returns\n",
    "    =======\n",
    "    Pandas Series\n",
    "        Average for each day of the week\n",
    "    \n",
    "    \"\"\"\n",
    "    # get daily sales of store\n",
    "    store_series = store_dataframe(df2019, \"D\")[STORE_CODE]\n",
    "    # get count of each dayofweek in year\n",
    "    c = Counter(store_series.index.dayofweek)\n",
    "    count = np.array([x[1] for x in sorted(c.items())]) # convert to allow numpy broadcasting\n",
    "    weekly_average = store_series.groupby(store_series.index.weekday).sum() / count\n",
    "    return weekly_average"
   ]
  },
  {
   "cell_type": "code",
   "execution_count": 523,
   "metadata": {},
   "outputs": [
    {
     "data": {
      "text/plain": [
       "<matplotlib.axes._subplots.AxesSubplot at 0x1a7f4aadd0>"
      ]
     },
     "execution_count": 523,
     "metadata": {},
     "output_type": "execute_result"
    },
    {
     "data": {
      "image/png": "[encoded data removed]",
      "text/plain": [
       "<Figure size 432x288 with 1 Axes>"
      ]
     },
     "metadata": {
      "needs_background": "light"
     },
     "output_type": "display_data"
    }
   ],
   "source": [
    "wk = weekly_average_series(df2019, \"BK0019\")\n",
    "wk.plot()"
   ]
  },
  {
   "cell_type": "code",
   "execution_count": 603,
   "metadata": {},
   "outputs": [],
   "source": [
    "def weekly_average_dataframe(df):\n",
    "    \"\"\"\n",
    "    Combines series from weekly_average_series() into one dataframe.\n",
    "    \n",
    "    Parameters\n",
    "    ==========\n",
    "    df: Pandas DataFrame\n",
    "        Dataframe output from convert_dates() \n",
    "    \n",
    "    Returns\n",
    "    =======\n",
    "    Pandas DataFrame\n",
    "        Average for each day of the week\n",
    "    \n",
    "    \"\"\"\n",
    "    branches = df[\"branch\"].unique() # prepare branch columns\n",
    "    d = {branch:weekly_average_series(df, branch) for branch in branches} # dictionary of series\n",
    "    weekly_df = pd.DataFrame.from_dict(d)\n",
    "    return weekly_df"
   ]
  },
  {
   "cell_type": "code",
   "execution_count": 606,
   "metadata": {
    "scrolled": true
   },
   "outputs": [
    {
     "data": {
      "text/html": [
       "<div>\n",
       "<style scoped>\n",
       "    .dataframe tbody tr th:only-of-type {\n",
       "        vertical-align: middle;\n",
       "    }\n",
       "\n",
       "    .dataframe tbody tr th {\n",
       "        vertical-align: top;\n",
       "    }\n",
       "\n",
       "    .dataframe thead th {\n",
       "        text-align: right;\n",
       "    }\n",
       "</style>\n",
       "<table border=\"1\" class=\"dataframe\">\n",
       "  <thead>\n",
       "    <tr style=\"text-align: right;\">\n",
       "      <th></th>\n",
       "      <th>BK0008</th>\n",
       "      <th>bk0009</th>\n",
       "      <th>BK0010</th>\n",
       "      <th>bk0011</th>\n",
       "      <th>BK0014</th>\n",
       "      <th>BK0016</th>\n",
       "      <th>bk0016</th>\n",
       "      <th>BK0017</th>\n",
       "      <th>BK0018</th>\n",
       "      <th>BK0019</th>\n",
       "      <th>...</th>\n",
       "      <th>bk0023</th>\n",
       "      <th>BK0024</th>\n",
       "      <th>BK0025</th>\n",
       "      <th>bk0026</th>\n",
       "      <th>BK0027</th>\n",
       "      <th>BK0028</th>\n",
       "      <th>BK0029</th>\n",
       "      <th>BK1555</th>\n",
       "      <th>SWBK0006</th>\n",
       "      <th>SWSWBK0003</th>\n",
       "    </tr>\n",
       "    <tr>\n",
       "      <th>saledate</th>\n",
       "      <th></th>\n",
       "      <th></th>\n",
       "      <th></th>\n",
       "      <th></th>\n",
       "      <th></th>\n",
       "      <th></th>\n",
       "      <th></th>\n",
       "      <th></th>\n",
       "      <th></th>\n",
       "      <th></th>\n",
       "      <th></th>\n",
       "      <th></th>\n",
       "      <th></th>\n",
       "      <th></th>\n",
       "      <th></th>\n",
       "      <th></th>\n",
       "      <th></th>\n",
       "      <th></th>\n",
       "      <th></th>\n",
       "      <th></th>\n",
       "      <th></th>\n",
       "    </tr>\n",
       "  </thead>\n",
       "  <tbody>\n",
       "    <tr>\n",
       "      <th>0</th>\n",
       "      <td>15140</td>\n",
       "      <td>13827</td>\n",
       "      <td>0</td>\n",
       "      <td>945770</td>\n",
       "      <td>0</td>\n",
       "      <td>0</td>\n",
       "      <td>161720</td>\n",
       "      <td>0</td>\n",
       "      <td>1104572</td>\n",
       "      <td>1934733</td>\n",
       "      <td>...</td>\n",
       "      <td>30664</td>\n",
       "      <td>0</td>\n",
       "      <td>8806</td>\n",
       "      <td>98313</td>\n",
       "      <td>212666</td>\n",
       "      <td>57219</td>\n",
       "      <td>0</td>\n",
       "      <td>0</td>\n",
       "      <td>0</td>\n",
       "      <td>588179</td>\n",
       "    </tr>\n",
       "    <tr>\n",
       "      <th>1</th>\n",
       "      <td>11088</td>\n",
       "      <td>1132242</td>\n",
       "      <td>909951</td>\n",
       "      <td>1376411</td>\n",
       "      <td>1253250</td>\n",
       "      <td>369771</td>\n",
       "      <td>195283</td>\n",
       "      <td>720871</td>\n",
       "      <td>1533688</td>\n",
       "      <td>2175744</td>\n",
       "      <td>...</td>\n",
       "      <td>267484</td>\n",
       "      <td>274047</td>\n",
       "      <td>168246</td>\n",
       "      <td>93598</td>\n",
       "      <td>227593</td>\n",
       "      <td>45898</td>\n",
       "      <td>58359</td>\n",
       "      <td>780455</td>\n",
       "      <td>2497766</td>\n",
       "      <td>1924774</td>\n",
       "    </tr>\n",
       "    <tr>\n",
       "      <th>2</th>\n",
       "      <td>14298</td>\n",
       "      <td>1177607</td>\n",
       "      <td>969297</td>\n",
       "      <td>1416119</td>\n",
       "      <td>1380430</td>\n",
       "      <td>394618</td>\n",
       "      <td>203606</td>\n",
       "      <td>725062</td>\n",
       "      <td>1513648</td>\n",
       "      <td>2295072</td>\n",
       "      <td>...</td>\n",
       "      <td>292654</td>\n",
       "      <td>285437</td>\n",
       "      <td>169362</td>\n",
       "      <td>85057</td>\n",
       "      <td>252044</td>\n",
       "      <td>54885</td>\n",
       "      <td>42709</td>\n",
       "      <td>818156</td>\n",
       "      <td>2646724</td>\n",
       "      <td>2023391</td>\n",
       "    </tr>\n",
       "    <tr>\n",
       "      <th>3</th>\n",
       "      <td>9688</td>\n",
       "      <td>1134811</td>\n",
       "      <td>936802</td>\n",
       "      <td>1460990</td>\n",
       "      <td>1317250</td>\n",
       "      <td>381542</td>\n",
       "      <td>185490</td>\n",
       "      <td>712264</td>\n",
       "      <td>1550224</td>\n",
       "      <td>2283881</td>\n",
       "      <td>...</td>\n",
       "      <td>273378</td>\n",
       "      <td>235280</td>\n",
       "      <td>155636</td>\n",
       "      <td>87140</td>\n",
       "      <td>245137</td>\n",
       "      <td>62072</td>\n",
       "      <td>34497</td>\n",
       "      <td>814623</td>\n",
       "      <td>2586514</td>\n",
       "      <td>2017265</td>\n",
       "    </tr>\n",
       "    <tr>\n",
       "      <th>4</th>\n",
       "      <td>6261</td>\n",
       "      <td>1127697</td>\n",
       "      <td>962629</td>\n",
       "      <td>1429077</td>\n",
       "      <td>1326230</td>\n",
       "      <td>373638</td>\n",
       "      <td>193804</td>\n",
       "      <td>713899</td>\n",
       "      <td>1550393</td>\n",
       "      <td>2300521</td>\n",
       "      <td>...</td>\n",
       "      <td>249513</td>\n",
       "      <td>261485</td>\n",
       "      <td>145784</td>\n",
       "      <td>80033</td>\n",
       "      <td>253372</td>\n",
       "      <td>62372</td>\n",
       "      <td>39534</td>\n",
       "      <td>765525</td>\n",
       "      <td>2614631</td>\n",
       "      <td>2038346</td>\n",
       "    </tr>\n",
       "    <tr>\n",
       "      <th>5</th>\n",
       "      <td>5901</td>\n",
       "      <td>994776</td>\n",
       "      <td>996383</td>\n",
       "      <td>1504214</td>\n",
       "      <td>1391305</td>\n",
       "      <td>350488</td>\n",
       "      <td>198086</td>\n",
       "      <td>730341</td>\n",
       "      <td>1606054</td>\n",
       "      <td>2364433</td>\n",
       "      <td>...</td>\n",
       "      <td>281126</td>\n",
       "      <td>276775</td>\n",
       "      <td>165281</td>\n",
       "      <td>81960</td>\n",
       "      <td>272853</td>\n",
       "      <td>67267</td>\n",
       "      <td>47531</td>\n",
       "      <td>793259</td>\n",
       "      <td>2694807</td>\n",
       "      <td>2011809</td>\n",
       "    </tr>\n",
       "    <tr>\n",
       "      <th>6</th>\n",
       "      <td>11876</td>\n",
       "      <td>385533</td>\n",
       "      <td>821498</td>\n",
       "      <td>1467371</td>\n",
       "      <td>948363</td>\n",
       "      <td>90661</td>\n",
       "      <td>158650</td>\n",
       "      <td>204208</td>\n",
       "      <td>1412880</td>\n",
       "      <td>2318684</td>\n",
       "      <td>...</td>\n",
       "      <td>176185</td>\n",
       "      <td>98980</td>\n",
       "      <td>119197</td>\n",
       "      <td>97958</td>\n",
       "      <td>282135</td>\n",
       "      <td>82545</td>\n",
       "      <td>34392</td>\n",
       "      <td>60560</td>\n",
       "      <td>1369692</td>\n",
       "      <td>612750</td>\n",
       "    </tr>\n",
       "  </tbody>\n",
       "</table>\n",
       "<p>7 rows × 23 columns</p>\n",
       "</div>"
      ],
      "text/plain": [
       "          BK0008   bk0009  BK0010   bk0011   BK0014  BK0016  bk0016  BK0017  \\\n",
       "saledate                                                                      \n",
       "0          15140    13827       0   945770        0       0  161720       0   \n",
       "1          11088  1132242  909951  1376411  1253250  369771  195283  720871   \n",
       "2          14298  1177607  969297  1416119  1380430  394618  203606  725062   \n",
       "3           9688  1134811  936802  1460990  1317250  381542  185490  712264   \n",
       "4           6261  1127697  962629  1429077  1326230  373638  193804  713899   \n",
       "5           5901   994776  996383  1504214  1391305  350488  198086  730341   \n",
       "6          11876   385533  821498  1467371   948363   90661  158650  204208   \n",
       "\n",
       "           BK0018   BK0019  ...  bk0023  BK0024  BK0025  bk0026  BK0027  \\\n",
       "saledate                    ...                                           \n",
       "0         1104572  1934733  ...   30664       0    8806   98313  212666   \n",
       "1         1533688  2175744  ...  267484  274047  168246   93598  227593   \n",
       "2         1513648  2295072  ...  292654  285437  169362   85057  252044   \n",
       "3         1550224  2283881  ...  273378  235280  155636   87140  245137   \n",
       "4         1550393  2300521  ...  249513  261485  145784   80033  253372   \n",
       "5         1606054  2364433  ...  281126  276775  165281   81960  272853   \n",
       "6         1412880  2318684  ...  176185   98980  119197   97958  282135   \n",
       "\n",
       "          BK0028  BK0029  BK1555  SWBK0006  SWSWBK0003  \n",
       "saledate                                                \n",
       "0          57219       0       0         0      588179  \n",
       "1          45898   58359  780455   2497766     1924774  \n",
       "2          54885   42709  818156   2646724     2023391  \n",
       "3          62072   34497  814623   2586514     2017265  \n",
       "4          62372   39534  765525   2614631     2038346  \n",
       "5          67267   47531  793259   2694807     2011809  \n",
       "6          82545   34392   60560   1369692      612750  \n",
       "\n",
       "[7 rows x 23 columns]"
      ]
     },
     "execution_count": 606,
     "metadata": {},
     "output_type": "execute_result"
    }
   ],
   "source": [
    "test = weekly_average_dataframe(df2019)\n",
    "test.astype(\"int64\")"
   ]
  },
  {
   "cell_type": "code",
   "execution_count": null,
   "metadata": {},
   "outputs": [],
   "source": []
  }
 ],
 "metadata": {
  "kernelspec": {
   "display_name": "Python 3",
   "language": "python",
   "name": "python3"
  },
  "language_info": {
   "codemirror_mode": {
    "name": "ipython",
    "version": 3
   },
   "file_extension": ".py",
   "mimetype": "text/x-python",
   "name": "python",
   "nbconvert_exporter": "python",
   "pygments_lexer": "ipython3",
   "version": "3.7.6"
  }
 },
 "nbformat": 4,
 "nbformat_minor": 2
}
